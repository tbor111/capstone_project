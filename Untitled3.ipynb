{
 "cells": [
  {
   "cell_type": "code",
   "execution_count": 2,
   "metadata": {
    "collapsed": false
   },
   "outputs": [],
   "source": [
    "import ArticleData"
   ]
  },
  {
   "cell_type": "code",
   "execution_count": 5,
   "metadata": {
    "collapsed": false
   },
   "outputs": [],
   "source": [
    "data = ArticleData.ArticleData().call()"
   ]
  },
  {
   "cell_type": "code",
   "execution_count": 6,
   "metadata": {
    "collapsed": false
   },
   "outputs": [
    {
     "data": {
      "text/html": [
       "<div>\n",
       "<table border=\"1\" class=\"dataframe\">\n",
       "  <thead>\n",
       "    <tr style=\"text-align: right;\">\n",
       "      <th></th>\n",
       "      <th>title</th>\n",
       "      <th>date</th>\n",
       "      <th>body</th>\n",
       "      <th>section</th>\n",
       "      <th>source</th>\n",
       "      <th>condensed_section</th>\n",
       "    </tr>\n",
       "  </thead>\n",
       "  <tbody>\n",
       "    <tr>\n",
       "      <th>0</th>\n",
       "      <td>$5 Million for a Super Bowl Ad. Another Millio...</td>\n",
       "      <td>2017-01-29 00:00:00</td>\n",
       "      <td>This month, Anheuser-Busch InBev hosted a doze...</td>\n",
       "      <td>business</td>\n",
       "      <td>NYT</td>\n",
       "      <td>business</td>\n",
       "    </tr>\n",
       "    <tr>\n",
       "      <th>1</th>\n",
       "      <td>$60,000 in Tuition, and My Son Wants to Become...</td>\n",
       "      <td>2017-01-12 00:00:00</td>\n",
       "      <td>My wife and I are spending a fortune to send o...</td>\n",
       "      <td>fashion</td>\n",
       "      <td>NYT</td>\n",
       "      <td>entertainment</td>\n",
       "    </tr>\n",
       "    <tr>\n",
       "      <th>2</th>\n",
       "      <td>1 Patient, 7 Tumors and 100 Billion Cells Equa...</td>\n",
       "      <td>2016-12-07 00:00:00</td>\n",
       "      <td>The remarkable recovery of a woman with advanc...</td>\n",
       "      <td>health</td>\n",
       "      <td>NYT</td>\n",
       "      <td>sci_health</td>\n",
       "    </tr>\n",
       "    <tr>\n",
       "      <th>4</th>\n",
       "      <td>15 of the Best Journals by Our Reporters Aroun...</td>\n",
       "      <td>2016-12-30 00:00:00</td>\n",
       "      <td>Our foreign correspondents wrote about dozens ...</td>\n",
       "      <td>world</td>\n",
       "      <td>NYT</td>\n",
       "      <td>world</td>\n",
       "    </tr>\n",
       "    <tr>\n",
       "      <th>5</th>\n",
       "      <td>2 Charged in Ponzi Scheme Built Around ‘Hamilt...</td>\n",
       "      <td>2017-01-27 00:00:00</td>\n",
       "      <td>Two men were accused on Friday of bilking mill...</td>\n",
       "      <td>nyregion</td>\n",
       "      <td>NYT</td>\n",
       "      <td>other</td>\n",
       "    </tr>\n",
       "  </tbody>\n",
       "</table>\n",
       "</div>"
      ],
      "text/plain": [
       "                                               title                 date  \\\n",
       "0  $5 Million for a Super Bowl Ad. Another Millio...  2017-01-29 00:00:00   \n",
       "1  $60,000 in Tuition, and My Son Wants to Become...  2017-01-12 00:00:00   \n",
       "2  1 Patient, 7 Tumors and 100 Billion Cells Equa...  2016-12-07 00:00:00   \n",
       "4  15 of the Best Journals by Our Reporters Aroun...  2016-12-30 00:00:00   \n",
       "5  2 Charged in Ponzi Scheme Built Around ‘Hamilt...  2017-01-27 00:00:00   \n",
       "\n",
       "                                                body   section source  \\\n",
       "0  This month, Anheuser-Busch InBev hosted a doze...  business    NYT   \n",
       "1  My wife and I are spending a fortune to send o...   fashion    NYT   \n",
       "2  The remarkable recovery of a woman with advanc...    health    NYT   \n",
       "4  Our foreign correspondents wrote about dozens ...     world    NYT   \n",
       "5  Two men were accused on Friday of bilking mill...  nyregion    NYT   \n",
       "\n",
       "  condensed_section  \n",
       "0          business  \n",
       "1     entertainment  \n",
       "2        sci_health  \n",
       "4             world  \n",
       "5             other  "
      ]
     },
     "execution_count": 6,
     "metadata": {},
     "output_type": "execute_result"
    }
   ],
   "source": [
    "data.head()"
   ]
  }
 ],
 "metadata": {
  "anaconda-cloud": {},
  "kernelspec": {
   "display_name": "Python [default]",
   "language": "python",
   "name": "python2"
  },
  "language_info": {
   "codemirror_mode": {
    "name": "ipython",
    "version": 2
   },
   "file_extension": ".py",
   "mimetype": "text/x-python",
   "name": "python",
   "nbconvert_exporter": "python",
   "pygments_lexer": "ipython2",
   "version": "2.7.12"
  }
 },
 "nbformat": 4,
 "nbformat_minor": 1
}
