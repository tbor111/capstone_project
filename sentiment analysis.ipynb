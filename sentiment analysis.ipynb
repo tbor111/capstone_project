{
 "cells": [
  {
   "cell_type": "code",
   "execution_count": 155,
   "metadata": {
    "collapsed": false
   },
   "outputs": [],
   "source": [
    "import sys\n",
    "from sqlalchemy import create_engine\n",
    "import string\n",
    "import pandas as pd\n",
    "import numpy as np\n",
    "import psycopg2\n",
    "from sklearn.feature_extraction.text import CountVectorizer, TfidfVectorizer\n",
    "from sklearn.feature_selection import RFECV\n",
    "from sklearn.tree import DecisionTreeClassifier\n",
    "from sklearn.cross_validation import train_test_split, cross_val_score\n",
    "from nltk.stem.porter import PorterStemmer\n",
    "from nltk.classify import NaiveBayesClassifier\n",
    "from nltk.corpus import sentiwordnet as swn\n",
    "from nltk.sentiment import SentimentAnalyzer\n",
    "from nltk.sentiment.util import *"
   ]
  },
  {
   "cell_type": "markdown",
   "metadata": {},
   "source": [
    "# Get Data"
   ]
  },
  {
   "cell_type": "code",
   "execution_count": 112,
   "metadata": {
    "collapsed": true
   },
   "outputs": [],
   "source": [
    "engine = create_engine('postgresql://teresaborcuch@localhost:5433/capstone')"
   ]
  },
  {
   "cell_type": "code",
   "execution_count": 113,
   "metadata": {
    "collapsed": true
   },
   "outputs": [],
   "source": [
    "query = \"SELECT DISTINCT ON(title) title, date, author, body, link, section FROM ny_times;\"\n",
    "data = pd.read_sql(query, engine)"
   ]
  },
  {
   "cell_type": "code",
   "execution_count": 114,
   "metadata": {
    "collapsed": false
   },
   "outputs": [
    {
     "data": {
      "text/html": [
       "<div>\n",
       "<table border=\"1\" class=\"dataframe\">\n",
       "  <thead>\n",
       "    <tr style=\"text-align: right;\">\n",
       "      <th></th>\n",
       "      <th>title</th>\n",
       "      <th>date</th>\n",
       "      <th>author</th>\n",
       "      <th>body</th>\n",
       "      <th>link</th>\n",
       "      <th>section</th>\n",
       "    </tr>\n",
       "  </thead>\n",
       "  <tbody>\n",
       "    <tr>\n",
       "      <th>0</th>\n",
       "      <td>$5 Million for a Super Bowl Ad. Another Millio...</td>\n",
       "      <td>20170129</td>\n",
       "      <td>Sapna Maheshwari</td>\n",
       "      <td>This month, Anheuser-Busch InBev hosted a doze...</td>\n",
       "      <td>http://www.nytimes.com/2017/01/29/business/5-m...</td>\n",
       "      <td>business</td>\n",
       "    </tr>\n",
       "  </tbody>\n",
       "</table>\n",
       "</div>"
      ],
      "text/plain": [
       "                                               title      date  \\\n",
       "0  $5 Million for a Super Bowl Ad. Another Millio...  20170129   \n",
       "\n",
       "             author                                               body  \\\n",
       "0  Sapna Maheshwari  This month, Anheuser-Busch InBev hosted a doze...   \n",
       "\n",
       "                                                link   section  \n",
       "0  http://www.nytimes.com/2017/01/29/business/5-m...  business  "
      ]
     },
     "execution_count": 114,
     "metadata": {},
     "output_type": "execute_result"
    }
   ],
   "source": [
    "data.head(1)"
   ]
  },
  {
   "cell_type": "code",
   "execution_count": 9,
   "metadata": {
    "collapsed": false
   },
   "outputs": [],
   "source": [
    "n_instances = 100\n",
    "subj_docs = [(sent, 'subj') for sent in subjectivity.sents(categories='subj')[:n_instances]]"
   ]
  },
  {
   "cell_type": "code",
   "execution_count": 115,
   "metadata": {
    "collapsed": false
   },
   "outputs": [
    {
     "data": {
      "text/plain": [
       "(1069, 6)"
      ]
     },
     "execution_count": 115,
     "metadata": {},
     "output_type": "execute_result"
    }
   ],
   "source": [
    "data.shape"
   ]
  },
  {
   "cell_type": "code",
   "execution_count": 209,
   "metadata": {
    "collapsed": false
   },
   "outputs": [
    {
     "data": {
      "text/plain": [
       "u'2 Charged in Ponzi Scheme Built Around \\u2018Hamilton\\u2019 Tickets'"
      ]
     },
     "execution_count": 209,
     "metadata": {},
     "output_type": "execute_result"
    }
   ],
   "source": [
    "data['title'].iloc[5]"
   ]
  },
  {
   "cell_type": "markdown",
   "metadata": {},
   "source": [
    "# Using SWN"
   ]
  },
  {
   "cell_type": "code",
   "execution_count": 206,
   "metadata": {
    "collapsed": false
   },
   "outputs": [],
   "source": [
    "def compute_score(sentence):\n",
    "        taggedsentence = []\n",
    "        sent_score = []\n",
    "        taggedsentence.append(tagger.tag(sentence.split()))\n",
    "        wnl = nltk.WordNetLemmatizer()\n",
    "        for idx, words in enumerate(taggedsentence):\n",
    "            for idx2, t in enumerate(words):\n",
    "                newtag = ''\n",
    "                lemmatizedsent = wnl.lemmatize(t[0])\n",
    "                if t[1].startswith('NN'):\n",
    "                    newtag = 'n'\n",
    "                elif t[1].startswith('JJ'):\n",
    "                    newtag = 'a'\n",
    "                elif t[1].startswith('V'):\n",
    "                    newtag = 'v'\n",
    "                elif t[1].startswith('R'):\n",
    "                    newtag = 'r'\n",
    "                else:\n",
    "                    newtag = ''\n",
    "                if (newtag != ''):\n",
    "                    synsets = list(swn.senti_synsets(lemmatizedsent, newtag))\n",
    "                    score = 0.0\n",
    "                    if (len(synsets) > 0):\n",
    "                        for syn in synsets:\n",
    "                            score += syn.pos_score() - syn.neg_score()\n",
    "                        sent_score.append(score / len(synsets))\n",
    "            if (len(sent_score)==0 or len(sent_score)==1):\n",
    "                return (float(0.0))\n",
    "            else:\n",
    "                return (sum([word_score for word_score in sent_score]) / (len(sent_score)))"
   ]
  },
  {
   "cell_type": "code",
   "execution_count": 211,
   "metadata": {
    "collapsed": false
   },
   "outputs": [],
   "source": [
    "score = compute_score('2 Charged in Ponzi Scheme Built Around \\u2018Hamilton\\u2019 Tickets')"
   ]
  },
  {
   "cell_type": "code",
   "execution_count": 218,
   "metadata": {
    "collapsed": false
   },
   "outputs": [],
   "source": [
    "op_scores = []\n",
    "op_titles = data[data['section']=='opinion']['title']\n",
    "for x in op_titles:\n",
    "    score = compute_score(x)\n",
    "    op_scores.append(score)"
   ]
  },
  {
   "cell_type": "code",
   "execution_count": 222,
   "metadata": {
    "collapsed": false
   },
   "outputs": [
    {
     "data": {
      "image/png": "[encoded data removed]",
      "text/plain": [
       "<matplotlib.figure.Figure at 0x132af3110>"
      ]
     },
     "metadata": {},
     "output_type": "display_data"
    }
   ],
   "source": [
    "import matplotlib.pyplot as plt\n",
    "plt.hist(op_scores, bins = 20)\n",
    "plt.show()"
   ]
  },
  {
   "cell_type": "code",
   "execution_count": 221,
   "metadata": {
    "collapsed": false
   },
   "outputs": [
    {
     "data": {
      "image/png": "[encoded data removed]",
      "text/plain": [
       "<matplotlib.figure.Figure at 0x132731bd0>"
      ]
     },
     "metadata": {},
     "output_type": "display_data"
    }
   ],
   "source": [
    "non_op_scores = []\n",
    "non_op_titles = data[data['section']!='opinion']['title']\n",
    "for x in non_op_titles:\n",
    "    score = compute_score(x)\n",
    "    non_op_scores.append(score)\n",
    "\n",
    "plt.hist(non_op_scores, bins = 20)\n",
    "plt.show()"
   ]
  },
  {
   "cell_type": "code",
   "execution_count": 234,
   "metadata": {
    "collapsed": false
   },
   "outputs": [],
   "source": [
    "trump_titles = []\n",
    "for x in op_titles:\n",
    "    if 'Trump' in x:\n",
    "        trump_titles.append(x)"
   ]
  },
  {
   "cell_type": "code",
   "execution_count": 235,
   "metadata": {
    "collapsed": false
   },
   "outputs": [
    {
     "data": {
      "image/png": "[encoded data removed]",
      "text/plain": [
       "<matplotlib.figure.Figure at 0x132ca0c90>"
      ]
     },
     "metadata": {},
     "output_type": "display_data"
    }
   ],
   "source": [
    "trump_scores = []\n",
    "for x in trump_titles:\n",
    "    score = compute_score(x)\n",
    "    trump_scores.append(score)\n",
    "\n",
    "plt.hist(trump_scores, bins = 20)\n",
    "plt.show()"
   ]
  },
  {
   "cell_type": "code",
   "execution_count": 229,
   "metadata": {
    "collapsed": false
   },
   "outputs": [
    {
     "data": {
      "text/plain": [
       "-0.0086654840034125213"
      ]
     },
     "execution_count": 229,
     "metadata": {},
     "output_type": "execute_result"
    }
   ],
   "source": [
    "np.mean(trump_scores)"
   ]
  },
  {
   "cell_type": "code",
   "execution_count": 236,
   "metadata": {
    "collapsed": false
   },
   "outputs": [
    {
     "data": {
      "text/plain": [
       "-0.03163807941628926"
      ]
     },
     "execution_count": 236,
     "metadata": {},
     "output_type": "execute_result"
    }
   ],
   "source": [
    "np.mean(trump_scores)"
   ]
  },
  {
   "cell_type": "code",
   "execution_count": 210,
   "metadata": {
    "collapsed": false
   },
   "outputs": [
    {
     "name": "stdout",
     "output_type": "stream",
     "text": [
      "<two.n.01: PosScore=0.0 NegScore=0.0>\n",
      "<charge.v.01: PosScore=0.0 NegScore=0.0>\n",
      "<inch.n.01: PosScore=0.0 NegScore=0.0>\n",
      "<inch.n.01: PosScore=0.0 NegScore=0.0>\n",
      "<scheme.n.01: PosScore=0.125 NegScore=0.0>\n",
      "<construct.v.01: PosScore=0.0 NegScore=0.0>\n",
      "<about.r.03: PosScore=0.0 NegScore=0.0>\n",
      "<about.r.03: PosScore=0.0 NegScore=0.0>\n",
      "<ticket.n.01: PosScore=0.0 NegScore=0.0>\n"
     ]
    }
   ],
   "source": [
    "from nltk.tag.perceptron import PerceptronTagger #importing a tagger\n",
    "from nltk.tokenize import word_tokenize #of course tokenizing the input\n",
    "tagger=PerceptronTagger() #init the tagger in default mode\n",
    "for word, tag in tagger.tag(word_tokenize('2 Charged in Ponzi Scheme Built Around \\u2018Hamilton\\u2019 Tickets')): #change the sentences for other stuff\n",
    "    try:\n",
    "        synset=list(swn.senti_synsets(word))[0] #get the most likely synset\n",
    "    except IndexError:\n",
    "        pass\n",
    "    print synset "
   ]
  },
  {
   "cell_type": "code",
   "execution_count": null,
   "metadata": {
    "collapsed": true
   },
   "outputs": [],
   "source": []
  },
  {
   "cell_type": "markdown",
   "metadata": {},
   "source": [
    "# Preprocess for NLTK"
   ]
  },
  {
   "cell_type": "code",
   "execution_count": 122,
   "metadata": {
    "collapsed": true
   },
   "outputs": [],
   "source": [
    "# make these functions part of the list of words for documents\n",
    "stemmer = PorterStemmer()\n",
    "def stem_tokens(tokens, stemmer):\n",
    "    stemmed = []\n",
    "    for item in tokens:\n",
    "        if stemmer.stem(item) not in nltk.corpus.stopwords.words('english'):\n",
    "            stemmed.append(stemmer.stem(item))\n",
    "    return stemmed\n",
    "\n",
    "def tokenize(text):\n",
    "    text = text.encode('ascii', errors = 'replace')\n",
    "    text = ''.join([ch.lower() for ch in text if ch not in string.punctuation])\n",
    "    tokens = nltk.word_tokenize(text)\n",
    "    stems = stem_tokens(tokens, stemmer)\n",
    "    return stems\n",
    "\n",
    "def make_documents(data, part): # part can be 'title' or 'body'\n",
    "    stemmer = PorterStemmer()\n",
    "    labels = [\"opinion\" if i == 'opinion' else \"not opinion\" for i in data['section']]\n",
    "    tokenized_parts = [tokenize(x) for x in data[part]]\n",
    "    documents = zip(tokenized_parts, labels)\n",
    "    return documents "
   ]
  },
  {
   "cell_type": "code",
   "execution_count": 124,
   "metadata": {
    "collapsed": true
   },
   "outputs": [],
   "source": [
    "# preprocessing for NLTK Naive Bayes\n",
    "# titles have been tokenized, accents/punctuation/stopwords removed\n",
    "#documents = [(tokenize(title), label) for title in data['title'] for label in y]\n",
    "labels = [\"opinion\" if i == 'opinion' else \"not opinion\" for i in data['section']]\n",
    "tokenized_titles = [tokenize(title) for title in data['title']]\n",
    "documents = zip(tokenized_titles, labels)"
   ]
  },
  {
   "cell_type": "code",
   "execution_count": 125,
   "metadata": {
    "collapsed": false
   },
   "outputs": [
    {
     "data": {
      "text/plain": [
       "([u'5',\n",
       "  u'million',\n",
       "  u'super',\n",
       "  u'bowl',\n",
       "  u'ad',\n",
       "  u'anoth',\n",
       "  u'million',\n",
       "  u'market',\n",
       "  u'ad'],\n",
       " 'not opinion')"
      ]
     },
     "execution_count": 125,
     "metadata": {},
     "output_type": "execute_result"
    }
   ],
   "source": [
    "documents[0]"
   ]
  },
  {
   "cell_type": "code",
   "execution_count": 96,
   "metadata": {
    "collapsed": false
   },
   "outputs": [],
   "source": [
    "# make a giant list of all the words in the titles\n",
    "def extract_features(doc)\n",
    "\n",
    "def get_common_features(data, part, count):\n",
    "    word_list = []\n",
    "    for x in data[part]:\n",
    "        word_list.extend(tokenize(x))\n",
    "    all_words = nltk.FreqDist(w.lower() for w in word_list)\n",
    "    word_features = list(all_words.most_common(2000))\n",
    "    return word_features\n",
    "# get T/F for the giant list for each doc\n",
    "def doc_features(doc):\n",
    "    doc_words = set(doc)\n",
    "    features = {}\n",
    "    for word in word_features:\n",
    "        features['contains({})'.format(word)] = (word in doc_words)\n",
    "    return features\n",
    "\n",
    "def extract_features(doc):\n",
    "    word_features = get_common_features(data)"
   ]
  },
  {
   "cell_type": "code",
   "execution_count": 18,
   "metadata": {
    "collapsed": true
   },
   "outputs": [],
   "source": [
    "def doc_features(doc):\n",
    "    doc_words = set(doc)\n",
    "    features = {}\n",
    "    for word in word_features:\n",
    "        features['contains({})'.format(word)] = (word in doc_words)\n",
    "    return features"
   ]
  },
  {
   "cell_type": "code",
   "execution_count": null,
   "metadata": {
    "collapsed": true
   },
   "outputs": [],
   "source": [
    "# make a class for feature extraction\n",
    "\n",
    "class DocFeatures(data, part, count):\n",
    "    \n",
    "    def __init__(self):\n",
    "        self.data = data\n",
    "        self.part = part\n",
    "        self.features = get_common_features(data, part, count)\n",
    "        \n",
    "    def get_common_features(self):\n",
    "        word_list = []\n",
    "        for x in self.data[self.part]:\n",
    "            word_list.extend(tokenize(x))\n",
    "        all_words = nltk.FreqDist(w.lower() for w in word_list)\n",
    "        word_features = list(all_words.most_common(2000))\n",
    "        return word_features\n",
    "    \n",
    "    def featurize(doc):\n",
    "        doc_words = set(doc)\n",
    "        features = {}\n",
    "        for word in word_features:\n",
    "            features['contains({})'.format(word)] = (word in doc_words)\n",
    "        return features\n",
    "\n",
    "        "
   ]
  },
  {
   "cell_type": "code",
   "execution_count": null,
   "metadata": {
    "collapsed": true
   },
   "outputs": [],
   "source": []
  },
  {
   "cell_type": "code",
   "execution_count": 126,
   "metadata": {
    "collapsed": false
   },
   "outputs": [],
   "source": [
    "# train and test sets\n",
    "train_docs, test_docs = documents[100:], documents[:100]"
   ]
  },
  {
   "cell_type": "code",
   "execution_count": 127,
   "metadata": {
    "collapsed": false
   },
   "outputs": [
    {
     "data": {
      "text/plain": [
       "969"
      ]
     },
     "execution_count": 127,
     "metadata": {},
     "output_type": "execute_result"
    }
   ],
   "source": [
    "len(train_docs)"
   ]
  },
  {
   "cell_type": "markdown",
   "metadata": {},
   "source": [
    "# Sentiment Analysis"
   ]
  },
  {
   "cell_type": "code",
   "execution_count": 128,
   "metadata": {
    "collapsed": false
   },
   "outputs": [],
   "source": [
    "sa = SentimentAnalyzer()\n",
    "all_words_neg = sa.all_words([mark_negation(doc) for doc in train_docs])"
   ]
  },
  {
   "cell_type": "code",
   "execution_count": 130,
   "metadata": {
    "collapsed": false
   },
   "outputs": [],
   "source": [
    "all_words = sa.all_words(documents)"
   ]
  },
  {
   "cell_type": "code",
   "execution_count": 131,
   "metadata": {
    "collapsed": false
   },
   "outputs": [
    {
     "data": {
      "text/plain": [
       "6763"
      ]
     },
     "execution_count": 131,
     "metadata": {},
     "output_type": "execute_result"
    }
   ],
   "source": [
    "len(all_words)"
   ]
  },
  {
   "cell_type": "code",
   "execution_count": 132,
   "metadata": {
    "collapsed": false
   },
   "outputs": [
    {
     "data": {
      "text/plain": [
       "1069"
      ]
     },
     "execution_count": 132,
     "metadata": {},
     "output_type": "execute_result"
    }
   ],
   "source": [
    "len(documents)"
   ]
  },
  {
   "cell_type": "code",
   "execution_count": 134,
   "metadata": {
    "collapsed": true
   },
   "outputs": [],
   "source": [
    "unigram_feats = sa.unigram_word_feats(all_words_neg, min_freq=4)"
   ]
  },
  {
   "cell_type": "code",
   "execution_count": 153,
   "metadata": {
    "collapsed": false
   },
   "outputs": [
    {
     "data": {
      "text/plain": [
       "[u'trump', u'new', u'ban', u'us', u'say']"
      ]
     },
     "execution_count": 153,
     "metadata": {},
     "output_type": "execute_result"
    }
   ],
   "source": [
    "unigram_feats[:5]"
   ]
  },
  {
   "cell_type": "code",
   "execution_count": 136,
   "metadata": {
    "collapsed": false
   },
   "outputs": [
    {
     "data": {
      "text/plain": [
       "257"
      ]
     },
     "execution_count": 136,
     "metadata": {},
     "output_type": "execute_result"
    }
   ],
   "source": [
    "len(unigram_feats)"
   ]
  },
  {
   "cell_type": "code",
   "execution_count": 137,
   "metadata": {
    "collapsed": true
   },
   "outputs": [],
   "source": [
    "sa.add_feat_extractor(extract_unigram_feats, unigrams = unigram_feats)"
   ]
  },
  {
   "cell_type": "code",
   "execution_count": 138,
   "metadata": {
    "collapsed": true
   },
   "outputs": [],
   "source": [
    "training_set= sa.apply_features(train_set)\n",
    "test_set = sa.apply_features(test_set)"
   ]
  },
  {
   "cell_type": "code",
   "execution_count": 140,
   "metadata": {
    "collapsed": false,
    "scrolled": true
   },
   "outputs": [
    {
     "data": {
      "text/plain": [
       "({'contains(2017)': False,\n",
       "  'contains(act)': False,\n",
       "  'contains(action)': False,\n",
       "  'contains(aid)': False,\n",
       "  'contains(airport)': False,\n",
       "  'contains(allow)': False,\n",
       "  'contains(america)': False,\n",
       "  'contains(american)': False,\n",
       "  'contains(amid)': False,\n",
       "  'contains(anoth)': False,\n",
       "  'contains(arrest)': False,\n",
       "  'contains(art)': False,\n",
       "  'contains(artist)': False,\n",
       "  'contains(attack)': False,\n",
       "  'contains(attorney)': False,\n",
       "  'contains(australia)': False,\n",
       "  'contains(australian)': False,\n",
       "  'contains(award)': False,\n",
       "  'contains(back)': False,\n",
       "  'contains(ban)': False,\n",
       "  'contains(bank)': False,\n",
       "  'contains(bannon)': False,\n",
       "  'contains(becom)': False,\n",
       "  'contains(betsi)': False,\n",
       "  'contains(beyond)': False,\n",
       "  'contains(big)': False,\n",
       "  'contains(black)': False,\n",
       "  'contains(block)': False,\n",
       "  'contains(border)': False,\n",
       "  'contains(bowl)': False,\n",
       "  'contains(boy)': False,\n",
       "  'contains(california)': False,\n",
       "  'contains(call)': False,\n",
       "  'contains(canada)': False,\n",
       "  'contains(cancer)': False,\n",
       "  'contains(care)': False,\n",
       "  'contains(case)': False,\n",
       "  'contains(center)': False,\n",
       "  'contains(chang)': False,\n",
       "  'contains(charg)': False,\n",
       "  'contains(chief)': False,\n",
       "  'contains(children)': False,\n",
       "  'contains(china)': True,\n",
       "  'contains(chines)': False,\n",
       "  'contains(citi)': False,\n",
       "  'contains(climat)': False,\n",
       "  'contains(close)': False,\n",
       "  'contains(colleg)': False,\n",
       "  'contains(come)': False,\n",
       "  'contains(confirm)': False,\n",
       "  'contains(could)': False,\n",
       "  'contains(countri)': False,\n",
       "  'contains(court)': False,\n",
       "  'contains(coutur)': False,\n",
       "  'contains(daili)': False,\n",
       "  'contains(dark)': False,\n",
       "  'contains(day)': False,\n",
       "  'contains(deadli)': False,\n",
       "  'contains(defend)': False,\n",
       "  'contains(democrat)': False,\n",
       "  'contains(dept)': False,\n",
       "  'contains(design)': False,\n",
       "  'contains(devo)': False,\n",
       "  'contains(die)': False,\n",
       "  'contains(director)': False,\n",
       "  'contains(doctor)': False,\n",
       "  'contains(doe)': False,\n",
       "  'contains(donald)': False,\n",
       "  'contains(draw)': False,\n",
       "  'contains(drug)': False,\n",
       "  'contains(educ)': False,\n",
       "  'contains(elect)': False,\n",
       "  'contains(end)': False,\n",
       "  'contains(era)': False,\n",
       "  'contains(execut)': False,\n",
       "  'contains(face)': False,\n",
       "  'contains(facebook)': False,\n",
       "  'contains(fall)': False,\n",
       "  'contains(famili)': False,\n",
       "  'contains(fan)': False,\n",
       "  'contains(fashion)': False,\n",
       "  'contains(feder)': False,\n",
       "  'contains(fight)': False,\n",
       "  'contains(film)': False,\n",
       "  'contains(final)': False,\n",
       "  'contains(find)': False,\n",
       "  'contains(fire)': False,\n",
       "  'contains(first)': False,\n",
       "  'contains(free)': False,\n",
       "  'contains(french)': False,\n",
       "  'contains(friend)': False,\n",
       "  'contains(futur)': False,\n",
       "  'contains(gener)': False,\n",
       "  'contains(get)': False,\n",
       "  'contains(give)': False,\n",
       "  'contains(go)': False,\n",
       "  'contains(gorsuch)': False,\n",
       "  'contains(great)': False,\n",
       "  'contains(grow)': False,\n",
       "  'contains(guid)': False,\n",
       "  'contains(ha)': False,\n",
       "  'contains(hack)': False,\n",
       "  'contains(health)': False,\n",
       "  'contains(help)': False,\n",
       "  'contains(hi)': False,\n",
       "  'contains(hit)': False,\n",
       "  'contains(home)': False,\n",
       "  'contains(hope)': True,\n",
       "  'contains(hous)': False,\n",
       "  'contains(immigr)': False,\n",
       "  'contains(inquiri)': False,\n",
       "  'contains(iran)': False,\n",
       "  'contains(iraqi)': False,\n",
       "  'contains(isi)': False,\n",
       "  'contains(island)': False,\n",
       "  'contains(john)': False,\n",
       "  'contains(judg)': False,\n",
       "  'contains(keep)': False,\n",
       "  'contains(kill)': False,\n",
       "  'contains(knick)': False,\n",
       "  'contains(know)': False,\n",
       "  'contains(korea)': False,\n",
       "  'contains(la)': False,\n",
       "  'contains(law)': False,\n",
       "  'contains(lawyer)': False,\n",
       "  'contains(lead)': False,\n",
       "  'contains(leader)': False,\n",
       "  'contains(leav)': False,\n",
       "  'contains(life)': False,\n",
       "  'contains(light)': False,\n",
       "  'contains(like)': False,\n",
       "  'contains(limit)': False,\n",
       "  'contains(live)': False,\n",
       "  'contains(look)': False,\n",
       "  'contains(love)': False,\n",
       "  'contains(make)': False,\n",
       "  'contains(march)': False,\n",
       "  'contains(mari)': False,\n",
       "  'contains(may)': False,\n",
       "  'contains(mean)': False,\n",
       "  'contains(media)': False,\n",
       "  'contains(meet)': False,\n",
       "  'contains(met)': False,\n",
       "  'contains(mexico)': False,\n",
       "  'contains(missil)': False,\n",
       "  'contains(mosqu)': False,\n",
       "  'contains(museum)': False,\n",
       "  'contains(music)': False,\n",
       "  'contains(muslim)': False,\n",
       "  'contains(nation)': False,\n",
       "  'contains(need)': False,\n",
       "  'contains(neil)': False,\n",
       "  'contains(new)': False,\n",
       "  'contains(news)': False,\n",
       "  'contains(night)': False,\n",
       "  'contains(nomine)': False,\n",
       "  'contains(obama)': False,\n",
       "  'contains(offer)': False,\n",
       "  'contains(offic)': False,\n",
       "  'contains(one)': False,\n",
       "  'contains(open)': False,\n",
       "  'contains(order)': False,\n",
       "  'contains(organ)': False,\n",
       "  'contains(pari)': False,\n",
       "  'contains(pick)': False,\n",
       "  'contains(plan)': False,\n",
       "  'contains(polici)': False,\n",
       "  'contains(polit)': False,\n",
       "  'contains(presid)': False,\n",
       "  'contains(presidenti)': False,\n",
       "  'contains(prison)': False,\n",
       "  'contains(protect)': False,\n",
       "  'contains(protest)': False,\n",
       "  'contains(quebec)': False,\n",
       "  'contains(race)': False,\n",
       "  'contains(raid)': False,\n",
       "  'contains(rais)': False,\n",
       "  'contains(refuge)': False,\n",
       "  'contains(report)': False,\n",
       "  'contains(republican)': False,\n",
       "  'contains(resist)': False,\n",
       "  'contains(return)': False,\n",
       "  'contains(review)': False,\n",
       "  'contains(right)': False,\n",
       "  'contains(rise)': False,\n",
       "  'contains(rivalri)': False,\n",
       "  'contains(role)': False,\n",
       "  'contains(rule)': False,\n",
       "  'contains(russia)': False,\n",
       "  'contains(russian)': False,\n",
       "  'contains(sag)': False,\n",
       "  'contains(said)': False,\n",
       "  'contains(say)': False,\n",
       "  'contains(school)': False,\n",
       "  'contains(secretari)': False,\n",
       "  'contains(secur)': False,\n",
       "  'contains(see)': False,\n",
       "  'contains(senat)': False,\n",
       "  'contains(settlement)': False,\n",
       "  'contains(shoot)': False,\n",
       "  'contains(show)': False,\n",
       "  'contains(sign)': False,\n",
       "  'contains(south)': False,\n",
       "  'contains(speech)': False,\n",
       "  'contains(stage)': False,\n",
       "  'contains(stand)': False,\n",
       "  'contains(star)': False,\n",
       "  'contains(state)': False,\n",
       "  'contains(step)': False,\n",
       "  'contains(street)': False,\n",
       "  'contains(student)': False,\n",
       "  'contains(style)': False,\n",
       "  'contains(super)': False,\n",
       "  'contains(suprem)': False,\n",
       "  'contains(take)': False,\n",
       "  'contains(talk)': False,\n",
       "  'contains(tax)': False,\n",
       "  'contains(tech)': False,\n",
       "  'contains(test)': False,\n",
       "  'contains(theresa)': False,\n",
       "  'contains(thi)': False,\n",
       "  'contains(time)': False,\n",
       "  'contains(today)': False,\n",
       "  'contains(top)': False,\n",
       "  'contains(toward)': False,\n",
       "  'contains(town)': False,\n",
       "  'contains(trade)': False,\n",
       "  'contains(travel)': False,\n",
       "  'contains(tri)': False,\n",
       "  'contains(trial)': False,\n",
       "  'contains(trump)': False,\n",
       "  'contains(turn)': False,\n",
       "  'contains(tv)': False,\n",
       "  'contains(two)': False,\n",
       "  'contains(un)': False,\n",
       "  'contains(us)': False,\n",
       "  'contains(visa)': False,\n",
       "  'contains(vow)': False,\n",
       "  'contains(wa)': False,\n",
       "  'contains(wall)': False,\n",
       "  'contains(want)': False,\n",
       "  'contains(war)': False,\n",
       "  'contains(washington)': False,\n",
       "  'contains(way)': False,\n",
       "  'contains(week)': False,\n",
       "  'contains(welcom)': False,\n",
       "  'contains(whi)': False,\n",
       "  'contains(white)': False,\n",
       "  'contains(william)': False,\n",
       "  'contains(win)': False,\n",
       "  'contains(women)': False,\n",
       "  'contains(work)': False,\n",
       "  'contains(worker)': False,\n",
       "  'contains(world)': False,\n",
       "  'contains(year)': False,\n",
       "  'contains(yemen)': False,\n",
       "  'contains(york)': False},\n",
       " 'not opinion')"
      ]
     },
     "execution_count": 140,
     "metadata": {},
     "output_type": "execute_result"
    }
   ],
   "source": [
    "training_set[50]"
   ]
  },
  {
   "cell_type": "code",
   "execution_count": 141,
   "metadata": {
    "collapsed": false,
    "scrolled": false
   },
   "outputs": [
    {
     "name": "stdout",
     "output_type": "stream",
     "text": [
      "22\n"
     ]
    }
   ],
   "source": [
    "count = 0\n",
    "for i in test_set:\n",
    "    if i[1] == 'opinion':\n",
    "        count +=1 \n",
    "        \n",
    "print count"
   ]
  },
  {
   "cell_type": "code",
   "execution_count": 142,
   "metadata": {
    "collapsed": false
   },
   "outputs": [
    {
     "data": {
      "text/plain": [
       "0.16180048661800486"
      ]
     },
     "execution_count": 142,
     "metadata": {},
     "output_type": "execute_result"
    }
   ],
   "source": [
    "# fraction of opinion in training\n",
    "133.0/len(training_set)"
   ]
  },
  {
   "cell_type": "code",
   "execution_count": 143,
   "metadata": {
    "collapsed": false
   },
   "outputs": [
    {
     "data": {
      "text/plain": [
       "0.22"
      ]
     },
     "execution_count": 143,
     "metadata": {},
     "output_type": "execute_result"
    }
   ],
   "source": [
    "# fraction of opinion in test\n",
    "22.0/len(test_set)"
   ]
  },
  {
   "cell_type": "code",
   "execution_count": 144,
   "metadata": {
    "collapsed": false
   },
   "outputs": [
    {
     "name": "stdout",
     "output_type": "stream",
     "text": [
      "Training classifier\n"
     ]
    }
   ],
   "source": [
    "trainer = NaiveBayesClassifier.train\n",
    "classifier = sa.train(trainer, training_set)"
   ]
  },
  {
   "cell_type": "code",
   "execution_count": 145,
   "metadata": {
    "collapsed": false
   },
   "outputs": [
    {
     "name": "stdout",
     "output_type": "stream",
     "text": [
      "Evaluating NaiveBayesClassifier results...\n",
      "Accuracy: 0.78\n",
      "F-measure [not opinion]: 0.876404494382\n",
      "F-measure [opinion]: None\n",
      "Precision [not opinion]: 0.78\n",
      "Precision [opinion]: None\n",
      "Recall [not opinion]: 1.0\n",
      "Recall [opinion]: 0.0\n"
     ]
    }
   ],
   "source": [
    "for key, value in sorted(sa.evaluate(test_set).items()):\n",
    "    print('{0}: {1}'.format(key, value))"
   ]
  },
  {
   "cell_type": "code",
   "execution_count": 146,
   "metadata": {
    "collapsed": false
   },
   "outputs": [
    {
     "name": "stdout",
     "output_type": "stream",
     "text": [
      "Most Informative Features\n",
      "        contains(donald) = True           opinio : not op =     12.0 : 1.0\n",
      "        contains(muslim) = True           opinio : not op =      6.6 : 1.0\n",
      "          contains(neil) = True           opinio : not op =      6.3 : 1.0\n",
      "        contains(nomine) = True           opinio : not op =      5.1 : 1.0\n",
      "         contains(march) = True           opinio : not op =      5.1 : 1.0\n",
      "       contains(protect) = True           opinio : not op =      5.1 : 1.0\n",
      "     contains(australia) = True           opinio : not op =      5.1 : 1.0\n",
      "        contains(border) = True           opinio : not op =      5.1 : 1.0\n",
      "        contains(toward) = True           opinio : not op =      5.1 : 1.0\n",
      "           contains(whi) = True           opinio : not op =      4.2 : 1.0\n",
      "       contains(inquiri) = True           opinio : not op =      3.7 : 1.0\n",
      "          contains(live) = True           opinio : not op =      3.7 : 1.0\n",
      "          contains(meet) = True           opinio : not op =      3.7 : 1.0\n",
      "          contains(mari) = True           opinio : not op =      3.7 : 1.0\n",
      "         contains(elect) = True           opinio : not op =      3.7 : 1.0\n",
      "        contains(suprem) = True           opinio : not op =      3.6 : 1.0\n",
      "       contains(gorsuch) = True           opinio : not op =      3.3 : 1.0\n",
      "      contains(democrat) = True           opinio : not op =      3.3 : 1.0\n",
      "         contains(stand) = True           opinio : not op =      3.1 : 1.0\n",
      "          contains(guid) = True           opinio : not op =      3.1 : 1.0\n"
     ]
    }
   ],
   "source": [
    "classifier.show_most_informative_features(20)"
   ]
  },
  {
   "cell_type": "code",
   "execution_count": null,
   "metadata": {
    "collapsed": true
   },
   "outputs": [],
   "source": []
  },
  {
   "cell_type": "markdown",
   "metadata": {},
   "source": [
    "# Sentiment Analysis for Article Bodies"
   ]
  },
  {
   "cell_type": "code",
   "execution_count": 59,
   "metadata": {
    "collapsed": true
   },
   "outputs": [],
   "source": [
    "body_docs = make_documents(data, 'body')"
   ]
  },
  {
   "cell_type": "code",
   "execution_count": 97,
   "metadata": {
    "collapsed": false
   },
   "outputs": [],
   "source": [
    "doc_features = get_common_features(data, 'body', 2000)"
   ]
  },
  {
   "cell_type": "code",
   "execution_count": 100,
   "metadata": {
    "collapsed": false
   },
   "outputs": [
    {
     "data": {
      "text/plain": [
       "(u'wa', 5902)"
      ]
     },
     "execution_count": 100,
     "metadata": {},
     "output_type": "execute_result"
    }
   ],
   "source": [
    "doc_features[0]"
   ]
  },
  {
   "cell_type": "code",
   "execution_count": 99,
   "metadata": {
    "collapsed": true
   },
   "outputs": [],
   "source": [
    "# train and test sets\n",
    "train_docs, test_docs = body_docs[100:], body_docs[:100]"
   ]
  },
  {
   "cell_type": "code",
   "execution_count": null,
   "metadata": {
    "collapsed": true
   },
   "outputs": [],
   "source": []
  }
 ],
 "metadata": {
  "kernelspec": {
   "display_name": "Python [default]",
   "language": "python",
   "name": "python2"
  },
  "language_info": {
   "codemirror_mode": {
    "name": "ipython",
    "version": 2
   },
   "file_extension": ".py",
   "mimetype": "text/x-python",
   "name": "python",
   "nbconvert_exporter": "python",
   "pygments_lexer": "ipython2",
   "version": "2.7.12"
  }
 },
 "nbformat": 4,
 "nbformat_minor": 1
}
