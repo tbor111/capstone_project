{
 "cells": [
  {
   "cell_type": "code",
   "execution_count": 1,
   "metadata": {
    "collapsed": true
   },
   "outputs": [],
   "source": [
    "import pandas as pd\n",
    "import numpy as np\n",
    "import requests\n",
    "from bs4 import BeautifulSoup\n",
    "from urllib import urlopen\n",
    "import re"
   ]
  },
  {
   "cell_type": "code",
   "execution_count": 22,
   "metadata": {
    "collapsed": true
   },
   "outputs": [],
   "source": [
    "# initialize lists\n",
    "titles = []\n",
    "dates = []\n",
    "links = []\n",
    "fulltexts = []\n",
    "authors = []"
   ]
  },
  {
   "cell_type": "code",
   "execution_count": 23,
   "metadata": {
    "collapsed": false
   },
   "outputs": [],
   "source": [
    "# scraping politics section\n",
    "url = 'http://theseattletribune.com/politics/'\n",
    "soup = BeautifulSoup(urlopen(url).read(), 'html.parser')\n",
    "results = soup.find_all('div', attrs = {'class': 'td-module-thumb'})"
   ]
  },
  {
   "cell_type": "code",
   "execution_count": 24,
   "metadata": {
    "collapsed": false
   },
   "outputs": [
    {
     "data": {
      "text/plain": [
       "<div class=\"td-module-thumb\"><a href=\"http://theseattletribune.com/9-heartwarming-stories-pit-bulls-stepping-saving-day/\" rel=\"bookmark\" title=\"9 Heartwarming Stories Of Pit Bulls STEPPING UP And SAVING The Day\"><img alt=\"Pit Bulls Save The Day\" class=\"entry-thumb\" height=\"235\" src=\"http://theseattletribune.com/wp-content/uploads/2016/11/Dog-Hiking-324x235.jpg\" title=\"9 Heartwarming Stories Of Pit Bulls STEPPING UP And SAVING The Day\" width=\"324\"/></a></div>"
      ]
     },
     "execution_count": 24,
     "metadata": {},
     "output_type": "execute_result"
    }
   ],
   "source": [
    "results[0]"
   ]
  },
  {
   "cell_type": "code",
   "execution_count": 25,
   "metadata": {
    "collapsed": false
   },
   "outputs": [],
   "source": [
    "for x in results:\n",
    "    # get title\n",
    "    title = x.find('a')['title']\n",
    "    titles.append(title)\n",
    "    \n",
    "    # get link\n",
    "    link = x.find('a')['href']\n",
    "    links.append(link)\n",
    "    \n",
    "    #re-soup it\n",
    "    new_soup = BeautifulSoup(urlopen(link).read(),'html.parser')\n",
    "    \n",
    "    # get author\n",
    "    author = new_soup.find(attrs = {'name':'author'})['content']\n",
    "    authors.append(author)\n",
    "    \n",
    "    # get body\n",
    "    body = new_soup.find_all('p')\n",
    "    fulltexts.append(body)\n",
    "    \n",
    "    # get date\n",
    "    date = new_soup.find(attrs = {'class': 'entry-date updated td-module-date'})['datetime']\n",
    "    dates.append(date)\n",
    "    \n",
    "    \n",
    "    \n",
    "    "
   ]
  },
  {
   "cell_type": "code",
   "execution_count": 27,
   "metadata": {
    "collapsed": false
   },
   "outputs": [],
   "source": [
    "st_df = pd.DataFrame(columns = ['title', 'author','date','link','fulltext'])\n",
    "st_df['title'] = titles\n",
    "st_df['author'] = authors\n",
    "st_df['date'] = dates\n",
    "st_df['link'] = links\n",
    "st_df['fulltext'] = fulltexts\n",
    "\n",
    "st_df['date_scraped'] = '2017-01-17'\n",
    "st_df['target'] = 0"
   ]
  },
  {
   "cell_type": "code",
   "execution_count": 29,
   "metadata": {
    "collapsed": false
   },
   "outputs": [
    {
     "data": {
      "text/plain": [
       "[<p>\\xa0</p>,\n",
       " <p style=\"text-align: left;\"><strong>Set politics aside for a moment to take our quiz and find out which 2016 presidential candidate you have the most in common with!</strong></p>,\n",
       " <p>\\xa0</p>,\n",
       " <p>\\xa0</p>,\n",
       " <p><script data-h=\"800\" data-id=\"586196a1cfff510011e7a97b\" data-l=\"1\" data-w=\"800\" src=\"https://quiz.tryinteract.com/assets/embed/0.1.min.js\" type=\"text/javascript\"></script></p>,\n",
       " <p><!--// PixFuture Hybrid Ad Server AdCode Starts //--><br/>\\n<script id=\"theAd_banner_UDdchTaGf2\" type=\"text/javascript\">\\n//<!-- var clickurl585 = ''; //PLace your own clickurl macro here. Click url must be escaped. var cachebuster585 = ''; //Place your own cachebuster macro here var loadjscssfile=function(filename,filetype,success){if(filetype == \"js\"){var fileref=document.createElement('script');fileref.setAttribute(\"type\", \"text/javascript\");fileref.setAttribute(\"src\",filename);if(typeof(success)!==\"undefined\"){var done=false;fileref.onload=fileref.onreadystatechange=function(){if(!done && (!this.readyState || this.readyState == 'loaded' || this.readyState == 'complete')){done=true;success();fileref.onload=fileref.onreadystatechange=null;};};}}else if(filetype == \"css\"){var fileref=document.createElement(\"link\");fileref.setAttribute(\"rel\",\"stylesheet\");fileref.setAttribute(\"type\", \"text/css\");fileref.setAttribute(\"href\", filename);}if (typeof fileref != \"undefined\"){document.getElementsByTagName(\"head\")[0].appendChild(fileref);}}; loadjscssfile('//servedby.pixfuture.net/resources/show.min.js','js',function(){ orbAd.showAdNative({'type':'desktop','iframed':'js','deliveryUrl':'//servedby.pixfuture.net/show/std?clu='+clickurl585+'&cb='+cachebuster585+'&scid=','siteChannelId':'585','scriptContainer':'theAd_banner_UDdchTaGf2','showDisplayUrls':'0','showSponsoredLink':'1','text':{'fontFamily':'Tahoma','fontSize':'large','fontWeight':'bold','fontStyle':'normal','textDecoration':'none','color':'000000'},'url':{'fontFamily':'Tahoma','fontSize':'medium','fontWeight':'normal','fontStyle':'normal','textDecoration':'none','color':'8E8C8C'},'background':'transparent','borderColor':'8e8c8c','borderWidth':'0','imgBorderColor':'8e8c8c','imgBorderWidth':'0'}); }); //-->\\n</script><br/>\\n<!--// PixFuture Hybrid Ad Server AdCode Ends //--></p>]"
      ]
     },
     "execution_count": 29,
     "metadata": {},
     "output_type": "execute_result"
    }
   ],
   "source": []
  }
 ],
 "metadata": {
  "kernelspec": {
   "display_name": "Python [default]",
   "language": "python",
   "name": "python2"
  },
  "language_info": {
   "codemirror_mode": {
    "name": "ipython",
    "version": 2
   },
   "file_extension": ".py",
   "mimetype": "text/x-python",
   "name": "python",
   "nbconvert_exporter": "python",
   "pygments_lexer": "ipython2",
   "version": "2.7.12"
  }
 },
 "nbformat": 4,
 "nbformat_minor": 1
}
