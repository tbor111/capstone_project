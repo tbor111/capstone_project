{
 "cells": [
  {
   "cell_type": "code",
   "execution_count": 1,
   "metadata": {
    "collapsed": true
   },
   "outputs": [],
   "source": [
    "import pandas as pd\n",
    "import requests\n",
    "import json"
   ]
  },
  {
   "cell_type": "code",
   "execution_count": 16,
   "metadata": {
    "collapsed": true
   },
   "outputs": [],
   "source": [
    "url = \"https://newsapi.org/v1/sources?language=en&category=general\""
   ]
  },
  {
   "cell_type": "code",
   "execution_count": 17,
   "metadata": {
    "collapsed": true
   },
   "outputs": [],
   "source": [
    "r = requests.get(url)"
   ]
  },
  {
   "cell_type": "code",
   "execution_count": 41,
   "metadata": {
    "collapsed": true
   },
   "outputs": [],
   "source": [
    "def parse_sources(r):\n",
    "    sources = []\n",
    "    r = r.json()['sources']\n",
    "    l = len(r)\n",
    "    for i in range(l):\n",
    "        name = r[i]['name']\n",
    "        sources.append(name)\n",
    "    return sources\n",
    "    "
   ]
  },
  {
   "cell_type": "code",
   "execution_count": 42,
   "metadata": {
    "collapsed": false
   },
   "outputs": [
    {
     "data": {
      "text/plain": [
       "[u'ABC News (AU)',\n",
       " u'Associated Press',\n",
       " u'BBC News',\n",
       " u'CNN',\n",
       " u'Google News',\n",
       " u'Independent',\n",
       " u'Metro',\n",
       " u'Mirror',\n",
       " u'Newsweek',\n",
       " u'New York Magazine',\n",
       " u'Reddit /r/all',\n",
       " u'Reuters',\n",
       " u'Sky News',\n",
       " u'The Guardian (AU)',\n",
       " u'The Guardian (UK)',\n",
       " u'The Hindu',\n",
       " u'The Huffington Post',\n",
       " u'The New York Times',\n",
       " u'The Telegraph',\n",
       " u'The Times of India',\n",
       " u'The Washington Post',\n",
       " u'Time',\n",
       " u'USA Today']"
      ]
     },
     "execution_count": 42,
     "metadata": {},
     "output_type": "execute_result"
    }
   ],
   "source": [
    "parse_sources(r)"
   ]
  },
  {
   "cell_type": "code",
   "execution_count": 38,
   "metadata": {
    "collapsed": false
   },
   "outputs": [
    {
     "data": {
      "text/plain": [
       "23"
      ]
     },
     "execution_count": 38,
     "metadata": {},
     "output_type": "execute_result"
    }
   ],
   "source": [
    "len(r.json()['sources'])"
   ]
  }
 ],
 "metadata": {
  "kernelspec": {
   "display_name": "Python [default]",
   "language": "python",
   "name": "python2"
  },
  "language_info": {
   "codemirror_mode": {
    "name": "ipython",
    "version": 2
   },
   "file_extension": ".py",
   "mimetype": "text/x-python",
   "name": "python",
   "nbconvert_exporter": "python",
   "pygments_lexer": "ipython2",
   "version": "2.7.12"
  }
 },
 "nbformat": 4,
 "nbformat_minor": 1
}
