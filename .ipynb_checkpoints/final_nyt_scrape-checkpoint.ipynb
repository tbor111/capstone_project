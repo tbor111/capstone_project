{
 "cells": [
  {
   "cell_type": "code",
   "execution_count": 21,
   "metadata": {
    "collapsed": true
   },
   "outputs": [],
   "source": [
    "import pandas as pd\n",
    "import news_df\n",
    "import soup\n",
    "import news_dict\n",
    "from sqlalchemy import create_engine\n",
    "from bs4 import BeautifulSoup\n",
    "import cookielib\n",
    "import urllib2\n",
    "import requests\n",
    "import re"
   ]
  },
  {
   "cell_type": "code",
   "execution_count": 19,
   "metadata": {
    "collapsed": true
   },
   "outputs": [],
   "source": [
    "def get_soup(url):\n",
    "    #request = urllib2.Request(url)\n",
    "    #response = urllib2.urlopen(url) #request\n",
    "    response = requests.get(url)\n",
    "    html = response.content\n",
    "    soup = BeautifulSoup(html.decode('utf-8', 'ignore'), 'html.parser')\n",
    "    results = soup.find_all('div', attrs = {'class': 'story-body'})\n",
    "    return results"
   ]
  },
  {
   "cell_type": "code",
   "execution_count": 24,
   "metadata": {
    "collapsed": true
   },
   "outputs": [],
   "source": [
    "#!/usr/bin/env python\n",
    "\n",
    "def scrape_soup(results):\n",
    "\n",
    "    # initialize lists\n",
    "    titles = []\n",
    "    dates = []\n",
    "    links = []\n",
    "    full_texts = []\n",
    "    authors = []\n",
    "    sections = []\n",
    "\n",
    "    # scrape results into lists\n",
    "    for x in results:\n",
    "        # get link\n",
    "        link = x.find('a')['href']\n",
    "        # set regex to eliminate interactive features\n",
    "        match = re.search('^http://www.nytimes.com/20', link)\n",
    "        if match:\n",
    "            links.append(link)\n",
    "\n",
    "    # resoup it\n",
    "    for link in links:\n",
    "        all_p = ''\n",
    "        cj = cookielib.CookieJar()\n",
    "        opener = urllib2.build_opener(urllib2.HTTPCookieProcessor(cj))\n",
    "        new_soup = BeautifulSoup(opener.open(link).read().decode('utf-8', 'ignore'), 'html.parser')\n",
    "        # get the article content\n",
    "        body = new_soup.find_all('p', attrs = {'class': 'story-body-text story-content'})\n",
    "        for p in body:\n",
    "            new_p = p.text.strip()\n",
    "            all_p = all_p + new_p\n",
    "        full_texts.append(all_p)\n",
    "\n",
    "        # get titles\n",
    "        title = new_soup.find('meta', attrs = {'property': 'og:title'})['content']\n",
    "        titles.append(title)\n",
    "\n",
    "        # get authors\n",
    "        author = new_soup.find('meta', attrs = {'name': 'author'})['content']\n",
    "        authors.append(author)\n",
    "\n",
    "        # get sections\n",
    "        section = new_soup.find('meta', attrs = {'name': 'CG'})['content']\n",
    "        sections.append(section)\n",
    "\n",
    "        # get dates\n",
    "        date = new_soup.find('meta', attrs = {'name': 'pdate'})['content']\n",
    "        dates.append(date)\n",
    "\n",
    "    data_dict = {\n",
    "        'title': titles, 'link': links, 'author': authors, 'body': full_texts,\n",
    "        'section': sections, 'date': dates\n",
    "    }\n",
    "    return data_dict\n"
   ]
  },
  {
   "cell_type": "code",
   "execution_count": 25,
   "metadata": {
    "collapsed": true
   },
   "outputs": [],
   "source": [
    "def make_df(data_dict):\n",
    "    df = pd.DataFrame(data_dict)\n",
    "    return df"
   ]
  },
  {
   "cell_type": "code",
   "execution_count": 26,
   "metadata": {
    "collapsed": true
   },
   "outputs": [],
   "source": [
    "def get_news(url):\n",
    "    engine = create_engine('postgresql://teresaborcuch@localhost:5433/capstone')\n",
    "    my_soup = get_soup(url)\n",
    "    my_news_dict = scrape_soup(my_soup)\n",
    "    df = make_df(my_news_dict)\n",
    "    df.to_sql('nytimes', engine, if_exists = 'append', index = False)"
   ]
  },
  {
   "cell_type": "code",
   "execution_count": 18,
   "metadata": {
    "collapsed": false
   },
   "outputs": [
    {
     "ename": "NameError",
     "evalue": "name 'results' is not defined",
     "output_type": "error",
     "traceback": [
      "\u001b[0;31m---------------------------------------------------------------------------\u001b[0m",
      "\u001b[0;31mNameError\u001b[0m                                 Traceback (most recent call last)",
      "\u001b[0;32m<ipython-input-18-980bffe1404d>\u001b[0m in \u001b[0;36m<module>\u001b[0;34m()\u001b[0m\n\u001b[0;32m----> 1\u001b[0;31m \u001b[0mresults\u001b[0m\u001b[0;34m\u001b[0m\u001b[0m\n\u001b[0m",
      "\u001b[0;31mNameError\u001b[0m: name 'results' is not defined"
     ]
    }
   ],
   "source": [
    "results"
   ]
  },
  {
   "cell_type": "code",
   "execution_count": 27,
   "metadata": {
    "collapsed": false,
    "scrolled": false
   },
   "outputs": [],
   "source": [
    "get_news('http://www.nytimes.com/section/science')"
   ]
  },
  {
   "cell_type": "code",
   "execution_count": 30,
   "metadata": {
    "collapsed": false
   },
   "outputs": [
    {
     "ename": "NameError",
     "evalue": "name 'results' is not defined",
     "output_type": "error",
     "traceback": [
      "\u001b[0;31m---------------------------------------------------------------------------\u001b[0m",
      "\u001b[0;31mNameError\u001b[0m                                 Traceback (most recent call last)",
      "\u001b[0;32m<ipython-input-30-980bffe1404d>\u001b[0m in \u001b[0;36m<module>\u001b[0;34m()\u001b[0m\n\u001b[0;32m----> 1\u001b[0;31m \u001b[0mresults\u001b[0m\u001b[0;34m\u001b[0m\u001b[0m\n\u001b[0m",
      "\u001b[0;31mNameError\u001b[0m: name 'results' is not defined"
     ]
    }
   ],
   "source": []
  }
 ],
 "metadata": {
  "anaconda-cloud": {},
  "kernelspec": {
   "display_name": "Python [default]",
   "language": "python",
   "name": "python2"
  },
  "language_info": {
   "codemirror_mode": {
    "name": "ipython",
    "version": 2
   },
   "file_extension": ".py",
   "mimetype": "text/x-python",
   "name": "python",
   "nbconvert_exporter": "python",
   "pygments_lexer": "ipython2",
   "version": "2.7.12"
  }
 },
 "nbformat": 4,
 "nbformat_minor": 1
}
