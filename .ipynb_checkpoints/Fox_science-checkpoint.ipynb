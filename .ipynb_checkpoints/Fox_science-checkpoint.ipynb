{
 "cells": [
  {
   "cell_type": "code",
   "execution_count": 21,
   "metadata": {
    "collapsed": true
   },
   "outputs": [],
   "source": [
    "import pandas as pd\n",
    "from sqlalchemy import create_engine\n",
    "from bs4 import BeautifulSoup\n",
    "import cookielib\n",
    "import urllib2\n",
    "import requests\n",
    "import re\n",
    "import json\n",
    "from sqlalchemy import create_engine\n",
    "import psycopg2\n",
    "from sqlalchemy.orm.session import sessionmaker"
   ]
  },
  {
   "cell_type": "code",
   "execution_count": 2,
   "metadata": {
    "collapsed": true
   },
   "outputs": [],
   "source": [
    "url = 'http://foxnews.com/science.html'"
   ]
  },
  {
   "cell_type": "code",
   "execution_count": 3,
   "metadata": {
    "collapsed": true
   },
   "outputs": [],
   "source": [
    "response = requests.get(url)\n",
    "html = response.content\n",
    "soup = BeautifulSoup(html, 'html.parser')"
   ]
  },
  {
   "cell_type": "code",
   "execution_count": 4,
   "metadata": {
    "collapsed": true
   },
   "outputs": [],
   "source": [
    "results = soup.find_all('article')"
   ]
  },
  {
   "cell_type": "code",
   "execution_count": 26,
   "metadata": {
    "collapsed": false,
    "scrolled": false
   },
   "outputs": [],
   "source": [
    "links = []\n",
    "authors = []\n",
    "dates = []\n",
    "bodies = []\n",
    "titles = []\n",
    "sections = []\n",
    "\n",
    "for x in results:\n",
    "    link = x.find('a')['href']\n",
    "    match = re.search('^http://', link)\n",
    "    if not match:\n",
    "        links.append(link)\n",
    "\n",
    "for link in links:\n",
    "    url = 'http://www.foxnews.com' + link\n",
    "    response = requests.get(url)\n",
    "    html = response.content\n",
    "    new_soup = BeautifulSoup(html, 'html.parser')\n",
    "    \n",
    "    # get title\n",
    "    title = new_soup.find('title').text.strip().replace('| Fox News','')\n",
    "    titles.append(title)\n",
    "    \n",
    "    # get body\n",
    "    all_p = ''\n",
    "    body = new_soup.find('div', attrs = {'class': 'article-text'})\n",
    "    paragraphs = body.find_all('p')\n",
    "    for p in paragraphs:\n",
    "        p = p.text.strip().encode('ascii','ignore')\n",
    "        all_p = all_p + p\n",
    "    bodies.append(all_p)\n",
    "    \n",
    "    # get date\n",
    "    date = new_soup.find('meta', attrs = {'name': 'dc.date'})['content']\n",
    "    dates.append(date)\n",
    "    \n",
    "    # get section\n",
    "    section = new_soup.find('meta', attrs = {'name': \"prism.section\"})['content']\n",
    "    sections.append(section)\n",
    "    \n",
    "    # get author\n",
    "    author_div = new_soup.find('div', attrs = {'class': 'article-info'})\n",
    "    try:\n",
    "        author = author_div.find('p').text.strip()\n",
    "    except AttributeError:\n",
    "        author = \"None found\"\n",
    "    authors.append(author)\n",
    "        "
   ]
  },
  {
   "cell_type": "code",
   "execution_count": 27,
   "metadata": {
    "collapsed": true
   },
   "outputs": [],
   "source": [
    "my_dict = {\n",
    "        'title': titles, 'link': links, 'author': authors, 'body': bodies,\n",
    "        'section': sections, 'date': dates\n",
    "    }"
   ]
  },
  {
   "cell_type": "code",
   "execution_count": 28,
   "metadata": {
    "collapsed": true
   },
   "outputs": [],
   "source": [
    "my_df = pd.DataFrame(my_dict)"
   ]
  },
  {
   "cell_type": "code",
   "execution_count": 30,
   "metadata": {
    "collapsed": false
   },
   "outputs": [
    {
     "data": {
      "text/html": [
       "<div>\n",
       "<table border=\"1\" class=\"dataframe\">\n",
       "  <thead>\n",
       "    <tr style=\"text-align: right;\">\n",
       "      <th></th>\n",
       "      <th>author</th>\n",
       "      <th>body</th>\n",
       "      <th>date</th>\n",
       "      <th>link</th>\n",
       "      <th>section</th>\n",
       "      <th>title</th>\n",
       "    </tr>\n",
       "  </thead>\n",
       "  <tbody>\n",
       "    <tr>\n",
       "      <th>0</th>\n",
       "      <td>By        \\t\\n\\t\\t            \\n\\t\\t          ...</td>\n",
       "      <td>Bob Marley would be 72 Monday if cancer hadn't...</td>\n",
       "      <td>2017-02-06</td>\n",
       "      <td>/science/2017/02/06/after-lost-bob-marley-tape...</td>\n",
       "      <td>science</td>\n",
       "      <td>After lost Bob Marley tapes were found, the ha...</td>\n",
       "    </tr>\n",
       "    <tr>\n",
       "      <th>1</th>\n",
       "      <td>By        \\t\\n\\t\\t            \\n\\t\\t          ...</td>\n",
       "      <td>A fireball meteor over Chicago ignites hearts ...</td>\n",
       "      <td>2017-02-07</td>\n",
       "      <td>/science/2017/02/07/how-to-find-meteorite.html</td>\n",
       "      <td>science</td>\n",
       "      <td>How to find a meteorite</td>\n",
       "    </tr>\n",
       "    <tr>\n",
       "      <th>2</th>\n",
       "      <td>By        \\t\\n\\t\\t            \\n\\t\\t          ...</td>\n",
       "      <td>HOUSTON  A soccer ball that was on the ill-fat...</td>\n",
       "      <td>2017-02-07</td>\n",
       "      <td>/science/2017/02/07/soccer-ball-recovered-from...</td>\n",
       "      <td>science</td>\n",
       "      <td>Soccer ball recovered from Shuttle Challenger ...</td>\n",
       "    </tr>\n",
       "    <tr>\n",
       "      <th>3</th>\n",
       "      <td>None found</td>\n",
       "      <td>The early Martian atmosphere likely didnt cont...</td>\n",
       "      <td>2017-02-07</td>\n",
       "      <td>/science/2017/02/07/study-questions-how-mars-c...</td>\n",
       "      <td>science</td>\n",
       "      <td>Study questions how Mars could have supported ...</td>\n",
       "    </tr>\n",
       "    <tr>\n",
       "      <th>4</th>\n",
       "      <td>None found</td>\n",
       "      <td>In 1946, a professor of psychology at the Illi...</td>\n",
       "      <td>2017-02-06</td>\n",
       "      <td>/science/2017/02/06/lost-songs-holocaust-found...</td>\n",
       "      <td>science</td>\n",
       "      <td>Lost songs of the Holocaust found in universit...</td>\n",
       "    </tr>\n",
       "  </tbody>\n",
       "</table>\n",
       "</div>"
      ],
      "text/plain": [
       "                                              author  \\\n",
       "0  By        \\t\\n\\t\\t            \\n\\t\\t          ...   \n",
       "1  By        \\t\\n\\t\\t            \\n\\t\\t          ...   \n",
       "2  By        \\t\\n\\t\\t            \\n\\t\\t          ...   \n",
       "3                                         None found   \n",
       "4                                         None found   \n",
       "\n",
       "                                                body        date  \\\n",
       "0  Bob Marley would be 72 Monday if cancer hadn't...  2017-02-06   \n",
       "1  A fireball meteor over Chicago ignites hearts ...  2017-02-07   \n",
       "2  HOUSTON  A soccer ball that was on the ill-fat...  2017-02-07   \n",
       "3  The early Martian atmosphere likely didnt cont...  2017-02-07   \n",
       "4  In 1946, a professor of psychology at the Illi...  2017-02-06   \n",
       "\n",
       "                                                link  section  \\\n",
       "0  /science/2017/02/06/after-lost-bob-marley-tape...  science   \n",
       "1     /science/2017/02/07/how-to-find-meteorite.html  science   \n",
       "2  /science/2017/02/07/soccer-ball-recovered-from...  science   \n",
       "3  /science/2017/02/07/study-questions-how-mars-c...  science   \n",
       "4  /science/2017/02/06/lost-songs-holocaust-found...  science   \n",
       "\n",
       "                                               title  \n",
       "0  After lost Bob Marley tapes were found, the ha...  \n",
       "1                           How to find a meteorite   \n",
       "2  Soccer ball recovered from Shuttle Challenger ...  \n",
       "3  Study questions how Mars could have supported ...  \n",
       "4  Lost songs of the Holocaust found in universit...  "
      ]
     },
     "execution_count": 30,
     "metadata": {},
     "output_type": "execute_result"
    }
   ],
   "source": [
    "my_df.head()"
   ]
  },
  {
   "cell_type": "code",
   "execution_count": 31,
   "metadata": {
    "collapsed": true
   },
   "outputs": [],
   "source": [
    "engine = create_engine('postgresql://teresaborcuch@localhost:5433/capstone')"
   ]
  },
  {
   "cell_type": "code",
   "execution_count": 32,
   "metadata": {
    "collapsed": true
   },
   "outputs": [],
   "source": [
    "# clear staging\n",
    "clear_staging_query = 'DELETE FROM fox_staging *;'"
   ]
  },
  {
   "cell_type": "code",
   "execution_count": 33,
   "metadata": {
    "collapsed": false
   },
   "outputs": [],
   "source": [
    "# create sqlalchemy session and clear staging\n",
    "Session = sessionmaker(bind=engine)\n",
    "session = Session()\n",
    "\n",
    "engine.execute(clear_staging_query)\n",
    "session.commit()"
   ]
  },
  {
   "cell_type": "code",
   "execution_count": 34,
   "metadata": {
    "collapsed": false
   },
   "outputs": [],
   "source": [
    "# add dataframe to staging\n",
    "my_df.to_sql('fox_staging', engine, if_exists = 'append', index = False)"
   ]
  },
  {
   "cell_type": "code",
   "execution_count": 36,
   "metadata": {
    "collapsed": true
   },
   "outputs": [],
   "source": [
    "move_unique_query = '''\n",
    "INSERT INTO fox_news (title, date, author, body, link, section)\n",
    "SELECT title, date, author, body, link, section\n",
    "FROM fox_staging\n",
    "WHERE NOT EXISTS (SELECT title, date, author, body, link, section\n",
    "FROM fox_news\n",
    "WHERE fox_news.title = fox_staging.title);\n",
    "'''"
   ]
  },
  {
   "cell_type": "code",
   "execution_count": 37,
   "metadata": {
    "collapsed": true
   },
   "outputs": [],
   "source": [
    "# run the move_unique_query\n",
    "engine.execute(move_unique_query)\n",
    "session.commit()\n",
    "session.close()"
   ]
  }
 ],
 "metadata": {
  "kernelspec": {
   "display_name": "Python [default]",
   "language": "python",
   "name": "python2"
  },
  "language_info": {
   "codemirror_mode": {
    "name": "ipython",
    "version": 2
   },
   "file_extension": ".py",
   "mimetype": "text/x-python",
   "name": "python",
   "nbconvert_exporter": "python",
   "pygments_lexer": "ipython2",
   "version": "2.7.12"
  }
 },
 "nbformat": 4,
 "nbformat_minor": 1
}
