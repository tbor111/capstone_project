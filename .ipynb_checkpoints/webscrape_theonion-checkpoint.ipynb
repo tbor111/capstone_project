{
 "cells": [
  {
   "cell_type": "code",
   "execution_count": 55,
   "metadata": {
    "collapsed": true
   },
   "outputs": [],
   "source": [
    "import pandas as pd\n",
    "from sqlalchemy import create_engine\n",
    "from sqlalchemy.orm.session import sessionmaker\n",
    "from bs4 import BeautifulSoup\n",
    "import cookielib\n",
    "import urllib2\n",
    "import requests\n",
    "import re"
   ]
  },
  {
   "cell_type": "code",
   "execution_count": 56,
   "metadata": {
    "collapsed": true
   },
   "outputs": [],
   "source": [
    "def get_soup(url):\n",
    "    response = requests.get(url)\n",
    "    html = response.content\n",
    "    soup = BeautifulSoup(html.decode('utf-8', 'ignore'), 'html.parser')\n",
    "    results = soup.find_all('div', attrs = {'class': 'info'})\n",
    "    print response.status_code\n",
    "    return results"
   ]
  },
  {
   "cell_type": "code",
   "execution_count": 64,
   "metadata": {
    "collapsed": false
   },
   "outputs": [
    {
     "name": "stdout",
     "output_type": "stream",
     "text": [
      "200\n"
     ]
    }
   ],
   "source": [
    "results = get_soup('http://www.theonion.com/')"
   ]
  },
  {
   "cell_type": "code",
   "execution_count": 104,
   "metadata": {
    "collapsed": false
   },
   "outputs": [],
   "source": [
    "def extract_features(results):\n",
    "     # initialize lists\n",
    "    titles = []\n",
    "    dates = []\n",
    "    links = []\n",
    "    bodies = []\n",
    "    sections = []\n",
    "    \n",
    "    for x in results:\n",
    "        # get link\n",
    "        link_suffix = x.find('a')['href']\n",
    "        match = re.search('^/article(?![\\w\\d])', link_suffix)\n",
    "        if match:\n",
    "            link = 'http://www.theonion.com' + link_suffix\n",
    "            links.append(link)\n",
    "            \n",
    "    \n",
    "    # resoup it\n",
    "    for link in links:\n",
    "        response = requests.get(link)\n",
    "        if response.status_code != 200:\n",
    "            print response.status_code\n",
    "        html = response.content\n",
    "        new_soup = BeautifulSoup(html.decode('utf-8', 'ignore'), 'html.parser')\n",
    "        \n",
    "        # get title\n",
    "        title = new_soup.find('title')\n",
    "        titles.append(title)\n",
    "        \n",
    "        # get body\n",
    "        body = new_soup.find('div', attrs = {'class': 'content-text'})\n",
    "        paragraph = body.find('p').text.strip()\n",
    "        p = paragraph.decode('utf-8', errors = 'optional')\n",
    "        bodies.append(paragraph)\n",
    "        \n",
    "    data_dict = {\n",
    "        'title': titles, 'link': links, 'body': bodies,\n",
    "        'section': sections, 'date': dates\n",
    "    }\n",
    "    return data_dict"
   ]
  },
  {
   "cell_type": "code",
   "execution_count": 105,
   "metadata": {
    "collapsed": false,
    "scrolled": false
   },
   "outputs": [
    {
     "ename": "UnicodeEncodeError",
     "evalue": "'ascii' codec can't encode character u'\\u2014' in position 10: ordinal not in range(128)",
     "output_type": "error",
     "traceback": [
      "\u001b[0;31m---------------------------------------------------------------------------\u001b[0m",
      "\u001b[0;31mUnicodeEncodeError\u001b[0m                        Traceback (most recent call last)",
      "\u001b[0;32m<ipython-input-105-45e8050c2d08>\u001b[0m in \u001b[0;36m<module>\u001b[0;34m()\u001b[0m\n\u001b[0;32m----> 1\u001b[0;31m \u001b[0mmy_dict\u001b[0m \u001b[0;34m=\u001b[0m \u001b[0mextract_features\u001b[0m\u001b[0;34m(\u001b[0m\u001b[0mresults\u001b[0m\u001b[0;34m)\u001b[0m\u001b[0;34m\u001b[0m\u001b[0m\n\u001b[0m",
      "\u001b[0;32m<ipython-input-104-c1f34a62049b>\u001b[0m in \u001b[0;36mextract_features\u001b[0;34m(results)\u001b[0m\n\u001b[1;32m     31\u001b[0m         \u001b[0mbody\u001b[0m \u001b[0;34m=\u001b[0m \u001b[0mnew_soup\u001b[0m\u001b[0;34m.\u001b[0m\u001b[0mfind\u001b[0m\u001b[0;34m(\u001b[0m\u001b[0;34m'div'\u001b[0m\u001b[0;34m,\u001b[0m \u001b[0mattrs\u001b[0m \u001b[0;34m=\u001b[0m \u001b[0;34m{\u001b[0m\u001b[0;34m'class'\u001b[0m\u001b[0;34m:\u001b[0m \u001b[0;34m'content-text'\u001b[0m\u001b[0;34m}\u001b[0m\u001b[0;34m)\u001b[0m\u001b[0;34m\u001b[0m\u001b[0m\n\u001b[1;32m     32\u001b[0m         \u001b[0mparagraph\u001b[0m \u001b[0;34m=\u001b[0m \u001b[0mbody\u001b[0m\u001b[0;34m.\u001b[0m\u001b[0mfind\u001b[0m\u001b[0;34m(\u001b[0m\u001b[0;34m'p'\u001b[0m\u001b[0;34m)\u001b[0m\u001b[0;34m.\u001b[0m\u001b[0mtext\u001b[0m\u001b[0;34m.\u001b[0m\u001b[0mstrip\u001b[0m\u001b[0;34m(\u001b[0m\u001b[0;34m)\u001b[0m\u001b[0;34m\u001b[0m\u001b[0m\n\u001b[0;32m---> 33\u001b[0;31m         \u001b[0mp\u001b[0m \u001b[0;34m=\u001b[0m \u001b[0mparagraph\u001b[0m\u001b[0;34m.\u001b[0m\u001b[0mdecode\u001b[0m\u001b[0;34m(\u001b[0m\u001b[0;34m'utf-8'\u001b[0m\u001b[0;34m,\u001b[0m \u001b[0merrors\u001b[0m \u001b[0;34m=\u001b[0m \u001b[0;34m'optional'\u001b[0m\u001b[0;34m)\u001b[0m\u001b[0;34m\u001b[0m\u001b[0m\n\u001b[0m\u001b[1;32m     34\u001b[0m         \u001b[0mbodies\u001b[0m\u001b[0;34m.\u001b[0m\u001b[0mappend\u001b[0m\u001b[0;34m(\u001b[0m\u001b[0mparagraph\u001b[0m\u001b[0;34m)\u001b[0m\u001b[0;34m\u001b[0m\u001b[0m\n\u001b[1;32m     35\u001b[0m \u001b[0;34m\u001b[0m\u001b[0m\n",
      "\u001b[0;32m/Users/teresaborcuch/anaconda2/lib/python2.7/encodings/utf_8.pyc\u001b[0m in \u001b[0;36mdecode\u001b[0;34m(input, errors)\u001b[0m\n\u001b[1;32m     14\u001b[0m \u001b[0;34m\u001b[0m\u001b[0m\n\u001b[1;32m     15\u001b[0m \u001b[0;32mdef\u001b[0m \u001b[0mdecode\u001b[0m\u001b[0;34m(\u001b[0m\u001b[0minput\u001b[0m\u001b[0;34m,\u001b[0m \u001b[0merrors\u001b[0m\u001b[0;34m=\u001b[0m\u001b[0;34m'strict'\u001b[0m\u001b[0;34m)\u001b[0m\u001b[0;34m:\u001b[0m\u001b[0;34m\u001b[0m\u001b[0m\n\u001b[0;32m---> 16\u001b[0;31m     \u001b[0;32mreturn\u001b[0m \u001b[0mcodecs\u001b[0m\u001b[0;34m.\u001b[0m\u001b[0mutf_8_decode\u001b[0m\u001b[0;34m(\u001b[0m\u001b[0minput\u001b[0m\u001b[0;34m,\u001b[0m \u001b[0merrors\u001b[0m\u001b[0;34m,\u001b[0m \u001b[0mTrue\u001b[0m\u001b[0;34m)\u001b[0m\u001b[0;34m\u001b[0m\u001b[0m\n\u001b[0m\u001b[1;32m     17\u001b[0m \u001b[0;34m\u001b[0m\u001b[0m\n\u001b[1;32m     18\u001b[0m \u001b[0;32mclass\u001b[0m \u001b[0mIncrementalEncoder\u001b[0m\u001b[0;34m(\u001b[0m\u001b[0mcodecs\u001b[0m\u001b[0;34m.\u001b[0m\u001b[0mIncrementalEncoder\u001b[0m\u001b[0;34m)\u001b[0m\u001b[0;34m:\u001b[0m\u001b[0;34m\u001b[0m\u001b[0m\n",
      "\u001b[0;31mUnicodeEncodeError\u001b[0m: 'ascii' codec can't encode character u'\\u2014' in position 10: ordinal not in range(128)"
     ]
    }
   ],
   "source": [
    "my_dict = extract_features(results)"
   ]
  },
  {
   "cell_type": "code",
   "execution_count": 91,
   "metadata": {
    "collapsed": false
   },
   "outputs": [
    {
     "data": {
      "text/plain": [
       "[u'WASHINGTON\\u2014Praising the federal appellate judge\\u2019s commitment to upholding the Constitution, President Trump hailed his Supreme Court justice nominee Neil Gorsuch as a fierce protector of the future amendment that will allow the president to temporarily suspend the right to assemble. \\u201cI am confident that Judge Gorsuch will do everything in his power to see that every line of the Constitution, including the forthcoming amendment to grant the executive branch the power to halt all public protests, will be safeguarded as the law of the land,\\u201d said Trump, adding that Gorsuch\\u2019s strict adherence to the country\\u2019s supreme law, both in its present and very near future iterations, was what drew him to the 49-year-old judge in the first place. \\u201cIf his track record is any indication, Judge Gorsuch will act as a stalwart defender of our nation\\u2019s founding legal document, which will soon contain a 28th amendment granting the president sole authority to restrict the public\\u2019s ability to collectively air grievances. He has my full vote of confidence in these matters.\\u201d Trump went on to say, however, that Gorsuch was also practical enough to know when certain parts of the Constitution didn\\u2019t need to be taken quite so seriously.',\n",
       " u'NEW YORK\\u2014Saying the global computer network will cease to be available to users as of midnight tonight, the people of the world announced plans Wednesday to shut down the entire internet until such time as a good use for it can be found.',\n",
       " u'WASHINGTON\\u2014Saying the measure would greatly aid efforts to combat the rise of anti-American sentiment online, the FBI announced Tuesday that it had shut down a prominent new ISIS recruitment website, www.whitehouse.gov. \\u201cBlocking sites like this one, which spread propaganda in the effort to attract people to ISIS, is vital to winning the war on terror,\\u201d said spokesperson Terrence Moreland, adding that the FBI recently became aware of the site after prominent ISIS leaders began posting on social media in support of the online recruitment hub. \\u201cWhile it can be hard to keep up with the number of internet outlets posting Islamic extremist propaganda, ultimately sites like whitehouse.gov are the greatest resource ISIS has to incite terrorism against the U.S. Even though we finally managed to shut it down after a little more than a week, the site was so popular that there\\u2019s no telling how many individuals have already been radicalized.\\u201d Moreland went on to say that the FBI was also contacting Twitter to request the removal of several prominent accounts known to encourage ISIS recruitment, including @DHSgov, @POTUS, and @realDonaldTrump, but admitted there was only so much it could do to silence such a determined enemy.',\n",
       " u'SEDALIA, MO\\u2014Explaining that he wanted to be prepared for any unforeseen outcome, local Donald Trump supporter Fred McGuire, 52, said Tuesday that he has a few backup scapegoats ready to go in case the president\\u2019s planned aggressive policing and monitoring policies aimed at immigrants don\\u2019t fix everything. \\u201cI\\u2019m expecting the mass deportations, forced registrations, indefinite detainment without trial, and expanded surveillance to solve every conceivable problem, but just to be safe, I\\u2019ve got a handful of other groups I\\u2019m ready to demonize,\\u201d said McGuire, adding that he is prepared to shift his outrage to welfare recipients, environmental activists, and possibly liberal college professors if Trump\\u2019s immigration policies fail to profoundly reduce crime and improve the economy. \\u201cObviously, Obama\\u2019s legacy is going to take a lot of the blame no matter what happens, and when people ask me why there\\u2019s hardly been any blue-collar job creation, I can also throw out labor unions and political correctness. Yeah, I\\u2019ve got enough scapegoat ideas to get me through the next four, maybe eight years.\\u201d McGuire went on to say that he wasn\\u2019t considering scapegoating Jews just yet, but would wait to see how the next few years play out.',\n",
       " u'WASHINGTON\\u2014Stressing that the very future of the republic was at stake, President Donald Trump called upon all Americans Monday to stand strong and resolute in the face of empathy. \\u201cNow, more than ever, we as a nation must remain steadfast in resisting the urge to understand the feelings and perspectives of others,\\u201d said Trump, adding that a rising tide of dangerous empathy could, if unchecked, quickly engulf the country in compassion. \\u201cAbove all else, we must never descend into treating people as separate individuals with their own concerns and desires, deserving of sympathy and respect. That is surely the path to kindness, from which a nation seldom returns.\\u201d Trump went on to say that the courage Americans demonstrated today would allow future generations to one day look at the world around them with indifference or, with any luck, pure disdain.',\n",
       " u'HOMESTEAD, FL\\u2014Marveling at the amount of tension his prey seemed to be carrying around with him, a 12-foot-long Burmese python was reportedly shocked Wednesday at how much stress a local man was holding in his gradually constricting neck. \\u201cGeez, it\\u2019s like one huge knot in there,\\u201d said the 300-pound reptile, also noting as it coiled itself with increasing force around the man\\u2019s torso that his shoulders were \\u201clike rocks\\u2014just giant lumps of tightness.\\u201d \\u201cHe must be having a tough time at work or something. This can\\u2019t be healthy. Seriously, this is the kind of stress that gives you a heart attack at age 40.\\u201d At press time, the python expressed relief that the man seemed to have very abruptly become completely relaxed.',\n",
       " u'NORRISTOWN, PA\\u2014Hoping to have a quiet, relaxing movie night at home with her family, local mother Allison Halstead told reporters Tuesday that she just wants to watch something nice. \\u201cI was thinking we could watch a happy movie this time,\\u201d Halstead said as she joined her husband and children in the living room, suggesting they find a film they could all watch, and not a sad one where someone dies at the end or a violent one where \\u201ceverybody\\u2019s shooting at everybody else the whole time.\\u201d \\u201cYou know I can\\u2019t watch that blood-and-guts stuff. Could we maybe pick something that\\u2019s upbeat and has a funny person in it? Maybe something with Billy Crystal.\\u201d At press time, reports confirmed Halsted had been outvoted four to one, and the family was watching The Departed again.',\n",
       " u'WASHINGTON\\u2014Praising the federal appellate judge\\u2019s commitment to upholding the Constitution, President Trump hailed his Supreme Court justice nominee Neil Gorsuch as a fierce protector of the future amendment that will allow the president to temporarily suspend the right to assemble. \\u201cI am confident that Judge Gorsuch will do everything in his power to see that every line of the Constitution, including the forthcoming amendment to grant the executive branch the power to halt all public protests, will be safeguarded as the law of the land,\\u201d said Trump, adding that Gorsuch\\u2019s strict adherence to the country\\u2019s supreme law, both in its present and very near future iterations, was what drew him to the 49-year-old judge in the first place. \\u201cIf his track record is any indication, Judge Gorsuch will act as a stalwart defender of our nation\\u2019s founding legal document, which will soon contain a 28th amendment granting the president sole authority to restrict the public\\u2019s ability to collectively air grievances. He has my full vote of confidence in these matters.\\u201d Trump went on to say, however, that Gorsuch was also practical enough to know when certain parts of the Constitution didn\\u2019t need to be taken quite so seriously.',\n",
       " u'KENTWOOD, MI\\u2014Two years after making the decision to quit drinking once and for all, local man and recovering alcoholic Julian Bradford, 35, told reporters Monday he now realizes that he doesn\\u2019t need friends to have a good time.',\n",
       " u'WASHINGTON\\u2014Praising the federal appellate judge\\u2019s commitment to upholding the Constitution, President Trump hailed his Supreme Court justice nominee Neil Gorsuch as a fierce protector of the future amendment that will allow the president to temporarily suspend the right to assemble. \\u201cI am confident that Judge Gorsuch will do everything in his power to see that every line of the Constitution, including the forthcoming amendment to grant the executive branch the power to halt all public protests, will be safeguarded as the law of the land,\\u201d said Trump, adding that Gorsuch\\u2019s strict adherence to the country\\u2019s supreme law, both in its present and very near future iterations, was what drew him to the 49-year-old judge in the first place. \\u201cIf his track record is any indication, Judge Gorsuch will act as a stalwart defender of our nation\\u2019s founding legal document, which will soon contain a 28th amendment granting the president sole authority to restrict the public\\u2019s ability to collectively air grievances. He has my full vote of confidence in these matters.\\u201d Trump went on to say, however, that Gorsuch was also practical enough to know when certain parts of the Constitution didn\\u2019t need to be taken quite so seriously.',\n",
       " u'NEW YORK\\u2014Saying the global computer network will cease to be available to users as of midnight tonight, the people of the world announced plans Wednesday to shut down the entire internet until such time as a good use for it can be found.']"
      ]
     },
     "execution_count": 91,
     "metadata": {},
     "output_type": "execute_result"
    }
   ],
   "source": [
    "my_dict['body']"
   ]
  }
 ],
 "metadata": {
  "kernelspec": {
   "display_name": "Python [default]",
   "language": "python",
   "name": "python2"
  },
  "language_info": {
   "codemirror_mode": {
    "name": "ipython",
    "version": 2
   },
   "file_extension": ".py",
   "mimetype": "text/x-python",
   "name": "python",
   "nbconvert_exporter": "python",
   "pygments_lexer": "ipython2",
   "version": "2.7.12"
  }
 },
 "nbformat": 4,
 "nbformat_minor": 1
}
