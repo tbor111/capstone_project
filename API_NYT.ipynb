{
 "cells": [
  {
   "cell_type": "code",
   "execution_count": 1,
   "metadata": {
    "collapsed": true
   },
   "outputs": [],
   "source": [
    "import pandas as pd\n",
    "import requests\n",
    "import json\n",
    "from nytimesarticle import articleAPI"
   ]
  },
  {
   "cell_type": "code",
   "execution_count": 2,
   "metadata": {
    "collapsed": true
   },
   "outputs": [],
   "source": [
    "api = articleAPI('e1bae24c8fab4067915a4c38247f4935')"
   ]
  },
  {
   "cell_type": "code",
   "execution_count": 37,
   "metadata": {
    "collapsed": false
   },
   "outputs": [],
   "source": [
    "def parse_articles(articles):\n",
    "    '''\n",
    "    This function takes in a response to the NYT api and parses\n",
    "    the articles into a list of dictionaries\n",
    "    '''\n",
    "    news = []\n",
    "    try:\n",
    "        for i in articles['response']['docs']:\n",
    "            dic = {}\n",
    "            dic['id'] = i['_id']\n",
    "            if i['abstract'] is not None:\n",
    "                dic['abstract'] = i['abstract'].encode(\"utf8\")\n",
    "            dic['headline'] = i['headline']['main'].encode(\"utf8\")\n",
    "            dic['desk'] = i['news_desk']\n",
    "            dic['date'] = i['pub_date'][0:10] # cutting time of day.\n",
    "            dic['section'] = i['section_name']\n",
    "            if i['snippet'] is not None:\n",
    "                dic['snippet'] = i['snippet'].encode(\"utf8\")\n",
    "            dic['source'] = i['source']\n",
    "            dic['type'] = i['type_of_material']\n",
    "            dic['url'] = i['web_url']\n",
    "            dic['word_count'] = i['word_count']\n",
    "            # locations\n",
    "            locations = []\n",
    "            for x in range(0,len(i['keywords'])):\n",
    "                if 'glocations' in i['keywords'][x]['name']:\n",
    "                    locations.append(i['keywords'][x]['value'])\n",
    "            dic['locations'] = locations\n",
    "            # subject\n",
    "            subjects = []\n",
    "            for x in range(0,len(i['keywords'])):\n",
    "                if 'subject' in i['keywords'][x]['name']:\n",
    "                    subjects.append(i['keywords'][x]['value'])\n",
    "            dic['subjects'] = subjects   \n",
    "            news.append(dic)\n",
    "        return(news) \n",
    "    except KeyError:\n",
    "        pass"
   ]
  },
  {
   "cell_type": "code",
   "execution_count": 73,
   "metadata": {
    "collapsed": true
   },
   "outputs": [],
   "source": [
    "def get_articles(date):\n",
    "#def get_articles(date, query):\n",
    "    '''\n",
    "    This function accepts a year in string format (e.g.'1980')\n",
    "    and a query (e.g.'Amnesty International') and it will \n",
    "    return a list of parsed articles (in dictionaries)\n",
    "    for that year.\n",
    "    '''\n",
    "    all_articles = []\n",
    "    for i in range(0,100): #NYT limits pager to first 100 pages. But rarely will you find over 100 pages of results anyway.\n",
    "        articles = api.search(#q = query,\n",
    "               fq = {'source':['Reuters','AP', 'The New York Times'], 'news_desk': ['Politics']},\n",
    "               begin_date = date + '0101',\n",
    "               end_date = date + '1231',\n",
    "               sort='oldest',\n",
    "               page = str(i))\n",
    "        articles = parse_articles(articles)\n",
    "        try:\n",
    "            all_articles = all_articles + articles\n",
    "        except TypeError:\n",
    "            pass\n",
    "    return(all_articles)"
   ]
  },
  {
   "cell_type": "code",
   "execution_count": 74,
   "metadata": {
    "collapsed": false
   },
   "outputs": [],
   "source": [
    "nyt_pol = get_articles('2016')"
   ]
  },
  {
   "cell_type": "code",
   "execution_count": 75,
   "metadata": {
    "collapsed": false
   },
   "outputs": [],
   "source": [
    "nyt_pol_df = pd.DataFrame(nyt_pol)"
   ]
  },
  {
   "cell_type": "code",
   "execution_count": 76,
   "metadata": {
    "collapsed": false
   },
   "outputs": [
    {
     "data": {
      "text/html": [
       "<div>\n",
       "<table border=\"1\" class=\"dataframe\">\n",
       "  <thead>\n",
       "    <tr style=\"text-align: right;\">\n",
       "      <th></th>\n",
       "      <th>abstract</th>\n",
       "      <th>date</th>\n",
       "      <th>desk</th>\n",
       "      <th>headline</th>\n",
       "      <th>id</th>\n",
       "      <th>locations</th>\n",
       "      <th>section</th>\n",
       "      <th>snippet</th>\n",
       "      <th>source</th>\n",
       "      <th>subjects</th>\n",
       "      <th>type</th>\n",
       "      <th>url</th>\n",
       "      <th>word_count</th>\n",
       "    </tr>\n",
       "  </thead>\n",
       "  <tbody>\n",
       "    <tr>\n",
       "      <th>0</th>\n",
       "      <td>NaN</td>\n",
       "      <td>2016-01-12</td>\n",
       "      <td>U.S. / Politics</td>\n",
       "      <td>The State(s) of the Union</td>\n",
       "      <td>54be6f5038f0d807ab72dfab</td>\n",
       "      <td>[]</td>\n",
       "      <td>U.S.</td>\n",
       "      <td>Beginning with his 2009 address to a joint ses...</td>\n",
       "      <td>The New York Times</td>\n",
       "      <td>[State of the Union Message (US)]</td>\n",
       "      <td>Video</td>\n",
       "      <td>http://www.nytimes.com/video/us/politics/10000...</td>\n",
       "      <td>28</td>\n",
       "    </tr>\n",
       "    <tr>\n",
       "      <th>1</th>\n",
       "      <td>NaN</td>\n",
       "      <td>2016-04-18</td>\n",
       "      <td>U.S. / Politics</td>\n",
       "      <td>Courting Favor</td>\n",
       "      <td>5505e2b838f0d85e90e0002e</td>\n",
       "      <td>[]</td>\n",
       "      <td>U.S.</td>\n",
       "      <td>In a series of articles, Eric Lipton of The Ne...</td>\n",
       "      <td>The New York Times</td>\n",
       "      <td>[Attorneys General, Campaign Finance, Lobbying...</td>\n",
       "      <td>Interactive Feature</td>\n",
       "      <td>http://www.nytimes.com/interactive/2015/us/pol...</td>\n",
       "      <td>None</td>\n",
       "    </tr>\n",
       "    <tr>\n",
       "      <th>2</th>\n",
       "      <td>NaN</td>\n",
       "      <td>2016-01-01</td>\n",
       "      <td>U.S. / Politics</td>\n",
       "      <td>Donald Trump’s Taxes: What We Know and Don’t Know</td>\n",
       "      <td>57f05f8a95d0e021d798993d</td>\n",
       "      <td>[]</td>\n",
       "      <td>U.S.</td>\n",
       "      <td>In the absence of any disclosures from Mr. Tru...</td>\n",
       "      <td>The New York Times</td>\n",
       "      <td>[Presidential Election of 2016, Federal Taxes ...</td>\n",
       "      <td>Interactive Feature</td>\n",
       "      <td>http://www.nytimes.com/interactive/2016/us/pol...</td>\n",
       "      <td>None</td>\n",
       "    </tr>\n",
       "    <tr>\n",
       "      <th>3</th>\n",
       "      <td>Hillary Clinton’s presidential campaign raised...</td>\n",
       "      <td>2016-01-01</td>\n",
       "      <td>Politics</td>\n",
       "      <td>Hillary Clinton Raised $37 Million in Last 3 M...</td>\n",
       "      <td>5686ced038f0d82225326f1e</td>\n",
       "      <td>[]</td>\n",
       "      <td>U.S.</td>\n",
       "      <td>Hillary Clinton’s presidential campaign raised...</td>\n",
       "      <td>The New York Times</td>\n",
       "      <td>[Campaign Finance, Presidential Election of 2016]</td>\n",
       "      <td>Blog</td>\n",
       "      <td>http://www.nytimes.com/politics/first-draft/20...</td>\n",
       "      <td>374</td>\n",
       "    </tr>\n",
       "    <tr>\n",
       "      <th>4</th>\n",
       "      <td>Senator Bernie Sanders’s presidential campaign...</td>\n",
       "      <td>2016-01-02</td>\n",
       "      <td>Politics</td>\n",
       "      <td>Bernie Sanders Took In $33 Million in Last Qua...</td>\n",
       "      <td>5688079638f0d8190470389d</td>\n",
       "      <td>[]</td>\n",
       "      <td>U.S.</td>\n",
       "      <td>Senator Bernie Sanders’s presidential campaign...</td>\n",
       "      <td>The New York Times</td>\n",
       "      <td>[Campaign Finance, Presidential Election of 2016]</td>\n",
       "      <td>Blog</td>\n",
       "      <td>http://www.nytimes.com/politics/first-draft/20...</td>\n",
       "      <td>408</td>\n",
       "    </tr>\n",
       "  </tbody>\n",
       "</table>\n",
       "</div>"
      ],
      "text/plain": [
       "                                            abstract        date  \\\n",
       "0                                                NaN  2016-01-12   \n",
       "1                                                NaN  2016-04-18   \n",
       "2                                                NaN  2016-01-01   \n",
       "3  Hillary Clinton’s presidential campaign raised...  2016-01-01   \n",
       "4  Senator Bernie Sanders’s presidential campaign...  2016-01-02   \n",
       "\n",
       "              desk                                           headline  \\\n",
       "0  U.S. / Politics                          The State(s) of the Union   \n",
       "1  U.S. / Politics                                     Courting Favor   \n",
       "2  U.S. / Politics  Donald Trump’s Taxes: What We Know and Don’t Know   \n",
       "3         Politics  Hillary Clinton Raised $37 Million in Last 3 M...   \n",
       "4         Politics  Bernie Sanders Took In $33 Million in Last Qua...   \n",
       "\n",
       "                         id locations section  \\\n",
       "0  54be6f5038f0d807ab72dfab        []    U.S.   \n",
       "1  5505e2b838f0d85e90e0002e        []    U.S.   \n",
       "2  57f05f8a95d0e021d798993d        []    U.S.   \n",
       "3  5686ced038f0d82225326f1e        []    U.S.   \n",
       "4  5688079638f0d8190470389d        []    U.S.   \n",
       "\n",
       "                                             snippet              source  \\\n",
       "0  Beginning with his 2009 address to a joint ses...  The New York Times   \n",
       "1  In a series of articles, Eric Lipton of The Ne...  The New York Times   \n",
       "2  In the absence of any disclosures from Mr. Tru...  The New York Times   \n",
       "3  Hillary Clinton’s presidential campaign raised...  The New York Times   \n",
       "4  Senator Bernie Sanders’s presidential campaign...  The New York Times   \n",
       "\n",
       "                                            subjects                 type  \\\n",
       "0                  [State of the Union Message (US)]                Video   \n",
       "1  [Attorneys General, Campaign Finance, Lobbying...  Interactive Feature   \n",
       "2  [Presidential Election of 2016, Federal Taxes ...  Interactive Feature   \n",
       "3  [Campaign Finance, Presidential Election of 2016]                 Blog   \n",
       "4  [Campaign Finance, Presidential Election of 2016]                 Blog   \n",
       "\n",
       "                                                 url word_count  \n",
       "0  http://www.nytimes.com/video/us/politics/10000...         28  \n",
       "1  http://www.nytimes.com/interactive/2015/us/pol...       None  \n",
       "2  http://www.nytimes.com/interactive/2016/us/pol...       None  \n",
       "3  http://www.nytimes.com/politics/first-draft/20...        374  \n",
       "4  http://www.nytimes.com/politics/first-draft/20...        408  "
      ]
     },
     "execution_count": 76,
     "metadata": {},
     "output_type": "execute_result"
    }
   ],
   "source": [
    "nyt_pol_df.head()"
   ]
  },
  {
   "cell_type": "code",
   "execution_count": 92,
   "metadata": {
    "collapsed": false
   },
   "outputs": [
    {
     "name": "stdout",
     "output_type": "stream",
     "text": [
      " Beginning with his 2009 address to a joint session of Congress, President Obama has focused on several themes that remain hallmarks of his State of the Union speeches....170\n",
      "\n",
      "In a series of articles, Eric Lipton of The New York Times examines the explosion in lobbying of state attorneys general by corporate interests and the millions in campaign donations they now provide....203\n",
      "\n",
      "In the absence of any disclosures from Mr. Trump, The New York Times and other news outlets have attempted to fill in the gaps....130\n",
      "\n",
      "Hillary Clinton’s presidential campaign raised $37 million in the three-month period that ended Dec. 31, bringing her total war chest for use in the Democratic presidential contest to more than $112 million....212\n",
      "\n",
      "Senator Bernie Sanders’s presidential campaign took in more than $33 million in the final three months of the 2015, as his wide base of small donors enabled him to raise just $4 million less than his rival Hillary Clinton in their fight for the ...250\n",
      "\n",
      "Donald J. Trump said there was little he could do about his appearance in a recruitment video that was posted by the terrorist group Shabab....143\n",
      "\n",
      "The Republican presidential candidates hoping to succeed President Obama are accusing him of abusing power through executive orders on guns and promising to reverse such measures if elected....193\n",
      "\n",
      "Mrs. Clinton will crisscross Iowa this week, while Mr. Clinton will hold rallies in New Hampshire. Donald J. Trump, who has intensified his attacks against the 42nd president, will also be near the state....207\n",
      "\n",
      "Mr. Cruz, who has led in many Iowa polls for weeks, will return to the state for the first time in about a month, setting off on a 28-town tour intended to cement his status as the state’s front-runner....207\n",
      "\n",
      "The House will open 2016 doing something Republicans have been itching to do for years: send a repeal of the Affordable Care Act to President Obama’s desk, even if it is unlikely they can override his veto....211\n",
      "\n",
      "Senator Bernie Sanders is breaking away from Hillary Clinton in New Hampshire and has erased her lead in Iowa, according to new polls that show him solidifying the support of Democrats ahead the first two 2016 presidential voting contests....242\n",
      "\n",
      "The United Food and Commercial Workers Union will endorse Hillary Clinton, giving the Democratic candidate a welcome boost as polls in Iowa and New Hampshire show Senator Bernie Sanders gaining ground....204\n",
      "\n",
      "Chelsea Clinton told an audience in Concord, N.H., that becoming a grandmother has made Hillary Clinton more determined....123\n",
      "\n",
      "Hillary Clinton, appearing with the president of the Brady Campaign to Prevent Gun Violence, attacked Bernie Sanders on his 2005 vote to shield gunmakers from lawsuits....171\n",
      "\n",
      "While Jeb Bush is portraying himself as a serious candidate for serious times, the “super PAC” supporting him is running attack ads against Marco Rubio....159\n",
      "\n",
      "In returning to the presidential campaign trail for the first time since 2008, Chelsea Clinton focused on motherhood and attacked Senator Bernie Sanders over his health care and education proposals....201\n",
      "\n",
      "Ted Cruz, facing persistent elbows from Donald J. Trump over his Canadian birth, delivered his most forceful response yet on Tuesday, suggesting that Mr. Trump was catering to Democrats....189\n",
      "\n",
      "As the polls tighten in Hillary Clinton’s primary fight against Senator Bernie Sanders, her language is starting to carry echoes from a similar point in 2008, when Senator Barack Obama started surging....206\n",
      "\n",
      "A senior executive of Koch Industries on Tuesday sent a letter to the company’s employees disputing a new book about the Kochs and other conservative families, saying it significantly exaggerated the role of the company’s founder, Fred C. Koch...250\n",
      "\n",
      "The president delivered his final State of the Union address on Tuesday and discussed economic growth....105\n",
      "\n"
     ]
    }
   ],
   "source": [
    "for i in range(20):\n",
    "    text = nyt_pol_df['snippet'].iloc[i]\n",
    "    print text + str(len(text)) + '\\n'"
   ]
  },
  {
   "cell_type": "code",
   "execution_count": 85,
   "metadata": {
    "collapsed": false
   },
   "outputs": [
    {
     "data": {
      "text/plain": [
       "239"
      ]
     },
     "execution_count": 85,
     "metadata": {},
     "output_type": "execute_result"
    }
   ],
   "source": [
    "nyt_pol_df['snippet'].count()"
   ]
  }
 ],
 "metadata": {
  "kernelspec": {
   "display_name": "Python [default]",
   "language": "python",
   "name": "python2"
  },
  "language_info": {
   "codemirror_mode": {
    "name": "ipython",
    "version": 2
   },
   "file_extension": ".py",
   "mimetype": "text/x-python",
   "name": "python",
   "nbconvert_exporter": "python",
   "pygments_lexer": "ipython2",
   "version": "2.7.12"
  }
 },
 "nbformat": 4,
 "nbformat_minor": 1
}
