{
 "cells": [
  {
   "cell_type": "markdown",
   "metadata": {},
   "source": [
    "# EDA: Named Entity Recognition\n",
    "\n",
    "Named entity recognition is the process of identifing particular elements from text, such as names, places, quantities, percentages, times/dates, etc. Identifying and quantifying what the general content types an article contains seems like a good predictor of what type of article it is. World news articles, for example, might mention more places than opinion articles, and business articles might have more percentages or dates than other sections. For each article, I'll count how many total mentions of people or places there are in the titles, as well as how many unique mentions for article bodies.\n",
    "\n",
    "The Stanford NLP group has published three [Named-Entity Recognizers](http://nlp.stanford.edu/software/CRF-NER.shtml). The three class model recognizes locations, persons, and organizations, and at least for now, this is the one I'll be using. Although NER's are written in Java, there is the Pyner interface for Python, as well as an NLTK wrapper (which I'll be using).\n",
    "\n",
    "Although state-of-the-art taggers can achieve near-human levels of accuracy, this one does make a few mistakes. One obvious flaw is that if I feed the tagger unigram terms, two-part names such as \"Michael Jordan\" will count as (\"Michael\", \"PERSON\") and (\"Jordan\", \"PERSON\"). I can roughly correct for this by dividing my average name entity count by two if need be. Additionally, sometimes the tagger mis-tags certain people or places. For instance, it failed to recognize \"Cameroon\" as a location, but tagged the word \"Heartbreak\" in the article title \"A Personal Trainer for Heartbreak\" as a person."
   ]
  },
  {
   "cell_type": "code",
   "execution_count": 1,
   "metadata": {
    "collapsed": false
   },
   "outputs": [
    {
     "name": "stderr",
     "output_type": "stream",
     "text": [
      "/Users/teresaborcuch/anaconda2/lib/python2.7/site-packages/matplotlib/font_manager.py:273: UserWarning: Matplotlib is building the font cache using fc-list. This may take a moment.\n",
      "  warnings.warn('Matplotlib is building the font cache using fc-list. This may take a moment.')\n",
      "/Users/teresaborcuch/anaconda2/lib/python2.7/site-packages/nltk/twitter/__init__.py:20: UserWarning: The twython library has not been installed. Some functionality from the twitter package will not be available.\n",
      "  warnings.warn(\"The twython library has not been installed. \"\n"
     ]
    }
   ],
   "source": [
    "import articledata # importing the module I've written to format\n",
    "import pandas as pd"
   ]
  },
  {
   "cell_type": "code",
   "execution_count": 2,
   "metadata": {
    "collapsed": false
   },
   "outputs": [],
   "source": [
    "data = pd.read_pickle('/Users/teresaborcuch/capstone_project/notebooks/pickled_data.pkl')"
   ]
  },
  {
   "cell_type": "code",
   "execution_count": 3,
   "metadata": {
    "collapsed": false
   },
   "outputs": [],
   "source": [
    "del data['SA_body']\n",
    "del data['SA_title']\n",
    "del data['SA_diff']"
   ]
  },
  {
   "cell_type": "code",
   "execution_count": 4,
   "metadata": {
    "collapsed": false
   },
   "outputs": [],
   "source": [
    "test_data = data.iloc[:5]"
   ]
  },
  {
   "cell_type": "code",
   "execution_count": 5,
   "metadata": {
    "collapsed": false
   },
   "outputs": [
    {
     "name": "stderr",
     "output_type": "stream",
     "text": [
      "articledata.py:123: SettingWithCopyWarning: \n",
      "A value is trying to be set on a copy of a slice from a DataFrame.\n",
      "Try using .loc[row_indexer,col_indexer] = value instead\n",
      "\n",
      "See the caveats in the documentation: http://pandas.pydata.org/pandas-docs/stable/indexing.html#indexing-view-versus-copy\n",
      "  data['SA_body'] = [compute_score(x) for x in data['body']]\n",
      "articledata.py:124: SettingWithCopyWarning: \n",
      "A value is trying to be set on a copy of a slice from a DataFrame.\n",
      "Try using .loc[row_indexer,col_indexer] = value instead\n",
      "\n",
      "See the caveats in the documentation: http://pandas.pydata.org/pandas-docs/stable/indexing.html#indexing-view-versus-copy\n",
      "  data['SA_title'] = [compute_score(x) for x in data['title']]\n",
      "articledata.py:125: SettingWithCopyWarning: \n",
      "A value is trying to be set on a copy of a slice from a DataFrame.\n",
      "Try using .loc[row_indexer,col_indexer] = value instead\n",
      "\n",
      "See the caveats in the documentation: http://pandas.pydata.org/pandas-docs/stable/indexing.html#indexing-view-versus-copy\n",
      "  data['SA_diff'] = abs(data['SA_title'] - data['SA_body'])\n"
     ]
    },
    {
     "data": {
      "text/html": [
       "<div>\n",
       "<table border=\"1\" class=\"dataframe\">\n",
       "  <thead>\n",
       "    <tr style=\"text-align: right;\">\n",
       "      <th></th>\n",
       "      <th>title</th>\n",
       "      <th>date</th>\n",
       "      <th>body</th>\n",
       "      <th>section</th>\n",
       "      <th>source</th>\n",
       "      <th>condensed_section</th>\n",
       "      <th>SA_body</th>\n",
       "      <th>SA_title</th>\n",
       "      <th>SA_diff</th>\n",
       "    </tr>\n",
       "  </thead>\n",
       "  <tbody>\n",
       "    <tr>\n",
       "      <th>0</th>\n",
       "      <td>$5 Million for a Super Bowl Ad. Another Millio...</td>\n",
       "      <td>2017-01-29</td>\n",
       "      <td>This month, Anheuser-Busch InBev hosted a doze...</td>\n",
       "      <td>business</td>\n",
       "      <td>NYT</td>\n",
       "      <td>business</td>\n",
       "      <td>0.016240</td>\n",
       "      <td>-0.023148</td>\n",
       "      <td>0.039388</td>\n",
       "    </tr>\n",
       "    <tr>\n",
       "      <th>1</th>\n",
       "      <td>$60,000 in Tuition, and My Son Wants to Become...</td>\n",
       "      <td>2017-01-12</td>\n",
       "      <td>My wife and I are spending a fortune to send o...</td>\n",
       "      <td>fashion</td>\n",
       "      <td>NYT</td>\n",
       "      <td>entertainment</td>\n",
       "      <td>0.020668</td>\n",
       "      <td>0.041667</td>\n",
       "      <td>0.020999</td>\n",
       "    </tr>\n",
       "    <tr>\n",
       "      <th>2</th>\n",
       "      <td>1 Patient, 7 Tumors and 100 Billion Cells Equa...</td>\n",
       "      <td>2016-12-07</td>\n",
       "      <td>The remarkable recovery of a woman with advanc...</td>\n",
       "      <td>health</td>\n",
       "      <td>NYT</td>\n",
       "      <td>sci_health</td>\n",
       "      <td>0.000946</td>\n",
       "      <td>-0.034722</td>\n",
       "      <td>0.035668</td>\n",
       "    </tr>\n",
       "    <tr>\n",
       "      <th>5</th>\n",
       "      <td>15 of the Best Journals by Our Reporters Aroun...</td>\n",
       "      <td>2016-12-30</td>\n",
       "      <td>Our foreign correspondents wrote about dozens ...</td>\n",
       "      <td>world</td>\n",
       "      <td>NYT</td>\n",
       "      <td>world</td>\n",
       "      <td>-0.020845</td>\n",
       "      <td>0.052083</td>\n",
       "      <td>0.072928</td>\n",
       "    </tr>\n",
       "    <tr>\n",
       "      <th>6</th>\n",
       "      <td>2 Arrested in Central Germany on Suspicion of ...</td>\n",
       "      <td>2017-02-09</td>\n",
       "      <td>BERLIN — An Algerian man and a Nigerian man we...</td>\n",
       "      <td>world</td>\n",
       "      <td>NYT</td>\n",
       "      <td>world</td>\n",
       "      <td>-0.001084</td>\n",
       "      <td>-0.007639</td>\n",
       "      <td>0.006555</td>\n",
       "    </tr>\n",
       "  </tbody>\n",
       "</table>\n",
       "</div>"
      ],
      "text/plain": [
       "                                               title       date  \\\n",
       "0  $5 Million for a Super Bowl Ad. Another Millio... 2017-01-29   \n",
       "1  $60,000 in Tuition, and My Son Wants to Become... 2017-01-12   \n",
       "2  1 Patient, 7 Tumors and 100 Billion Cells Equa... 2016-12-07   \n",
       "5  15 of the Best Journals by Our Reporters Aroun... 2016-12-30   \n",
       "6  2 Arrested in Central Germany on Suspicion of ... 2017-02-09   \n",
       "\n",
       "                                                body   section source  \\\n",
       "0  This month, Anheuser-Busch InBev hosted a doze...  business    NYT   \n",
       "1  My wife and I are spending a fortune to send o...   fashion    NYT   \n",
       "2  The remarkable recovery of a woman with advanc...    health    NYT   \n",
       "5  Our foreign correspondents wrote about dozens ...     world    NYT   \n",
       "6  BERLIN — An Algerian man and a Nigerian man we...     world    NYT   \n",
       "\n",
       "  condensed_section   SA_body  SA_title   SA_diff  \n",
       "0          business  0.016240 -0.023148  0.039388  \n",
       "1     entertainment  0.020668  0.041667  0.020999  \n",
       "2        sci_health  0.000946 -0.034722  0.035668  \n",
       "5             world -0.020845  0.052083  0.072928  \n",
       "6             world -0.001084 -0.007639  0.006555  "
      ]
     },
     "execution_count": 5,
     "metadata": {},
     "output_type": "execute_result"
    }
   ],
   "source": [
    "articledata.get_sent_scores(test_data)"
   ]
  },
  {
   "cell_type": "code",
   "execution_count": 6,
   "metadata": {
    "collapsed": false
   },
   "outputs": [
    {
     "name": "stderr",
     "output_type": "stream",
     "text": [
      "articledata.py:203: SettingWithCopyWarning: \n",
      "A value is trying to be set on a copy of a slice from a DataFrame.\n",
      "Try using .loc[row_indexer,col_indexer] = value instead\n",
      "\n",
      "See the caveats in the documentation: http://pandas.pydata.org/pandas-docs/stable/indexing.html#indexing-view-versus-copy\n",
      "  data['total_persons'] = persons\n",
      "articledata.py:204: SettingWithCopyWarning: \n",
      "A value is trying to be set on a copy of a slice from a DataFrame.\n",
      "Try using .loc[row_indexer,col_indexer] = value instead\n",
      "\n",
      "See the caveats in the documentation: http://pandas.pydata.org/pandas-docs/stable/indexing.html#indexing-view-versus-copy\n",
      "  data['total_places'] = places\n"
     ]
    }
   ],
   "source": [
    "articledata.count_entities(data = test_data, section = 'title')"
   ]
  },
  {
   "cell_type": "code",
   "execution_count": 7,
   "metadata": {
    "collapsed": false
   },
   "outputs": [
    {
     "data": {
      "text/html": [
       "<div>\n",
       "<table border=\"1\" class=\"dataframe\">\n",
       "  <thead>\n",
       "    <tr style=\"text-align: right;\">\n",
       "      <th></th>\n",
       "      <th>title</th>\n",
       "      <th>date</th>\n",
       "      <th>body</th>\n",
       "      <th>section</th>\n",
       "      <th>source</th>\n",
       "      <th>condensed_section</th>\n",
       "      <th>SA_body</th>\n",
       "      <th>SA_title</th>\n",
       "      <th>SA_diff</th>\n",
       "      <th>total_persons</th>\n",
       "      <th>total_places</th>\n",
       "    </tr>\n",
       "  </thead>\n",
       "  <tbody>\n",
       "    <tr>\n",
       "      <th>0</th>\n",
       "      <td>$5 Million for a Super Bowl Ad. Another Millio...</td>\n",
       "      <td>2017-01-29</td>\n",
       "      <td>This month, Anheuser-Busch InBev hosted a doze...</td>\n",
       "      <td>business</td>\n",
       "      <td>NYT</td>\n",
       "      <td>business</td>\n",
       "      <td>0.016240</td>\n",
       "      <td>-0.023148</td>\n",
       "      <td>0.039388</td>\n",
       "      <td>0</td>\n",
       "      <td>0</td>\n",
       "    </tr>\n",
       "    <tr>\n",
       "      <th>1</th>\n",
       "      <td>$60,000 in Tuition, and My Son Wants to Become...</td>\n",
       "      <td>2017-01-12</td>\n",
       "      <td>My wife and I are spending a fortune to send o...</td>\n",
       "      <td>fashion</td>\n",
       "      <td>NYT</td>\n",
       "      <td>entertainment</td>\n",
       "      <td>0.020668</td>\n",
       "      <td>0.041667</td>\n",
       "      <td>0.020999</td>\n",
       "      <td>0</td>\n",
       "      <td>0</td>\n",
       "    </tr>\n",
       "    <tr>\n",
       "      <th>2</th>\n",
       "      <td>1 Patient, 7 Tumors and 100 Billion Cells Equa...</td>\n",
       "      <td>2016-12-07</td>\n",
       "      <td>The remarkable recovery of a woman with advanc...</td>\n",
       "      <td>health</td>\n",
       "      <td>NYT</td>\n",
       "      <td>sci_health</td>\n",
       "      <td>0.000946</td>\n",
       "      <td>-0.034722</td>\n",
       "      <td>0.035668</td>\n",
       "      <td>0</td>\n",
       "      <td>0</td>\n",
       "    </tr>\n",
       "    <tr>\n",
       "      <th>5</th>\n",
       "      <td>15 of the Best Journals by Our Reporters Aroun...</td>\n",
       "      <td>2016-12-30</td>\n",
       "      <td>Our foreign correspondents wrote about dozens ...</td>\n",
       "      <td>world</td>\n",
       "      <td>NYT</td>\n",
       "      <td>world</td>\n",
       "      <td>-0.020845</td>\n",
       "      <td>0.052083</td>\n",
       "      <td>0.072928</td>\n",
       "      <td>0</td>\n",
       "      <td>0</td>\n",
       "    </tr>\n",
       "    <tr>\n",
       "      <th>6</th>\n",
       "      <td>2 Arrested in Central Germany on Suspicion of ...</td>\n",
       "      <td>2017-02-09</td>\n",
       "      <td>BERLIN — An Algerian man and a Nigerian man we...</td>\n",
       "      <td>world</td>\n",
       "      <td>NYT</td>\n",
       "      <td>world</td>\n",
       "      <td>-0.001084</td>\n",
       "      <td>-0.007639</td>\n",
       "      <td>0.006555</td>\n",
       "      <td>0</td>\n",
       "      <td>2</td>\n",
       "    </tr>\n",
       "  </tbody>\n",
       "</table>\n",
       "</div>"
      ],
      "text/plain": [
       "                                               title       date  \\\n",
       "0  $5 Million for a Super Bowl Ad. Another Millio... 2017-01-29   \n",
       "1  $60,000 in Tuition, and My Son Wants to Become... 2017-01-12   \n",
       "2  1 Patient, 7 Tumors and 100 Billion Cells Equa... 2016-12-07   \n",
       "5  15 of the Best Journals by Our Reporters Aroun... 2016-12-30   \n",
       "6  2 Arrested in Central Germany on Suspicion of ... 2017-02-09   \n",
       "\n",
       "                                                body   section source  \\\n",
       "0  This month, Anheuser-Busch InBev hosted a doze...  business    NYT   \n",
       "1  My wife and I are spending a fortune to send o...   fashion    NYT   \n",
       "2  The remarkable recovery of a woman with advanc...    health    NYT   \n",
       "5  Our foreign correspondents wrote about dozens ...     world    NYT   \n",
       "6  BERLIN — An Algerian man and a Nigerian man we...     world    NYT   \n",
       "\n",
       "  condensed_section   SA_body  SA_title   SA_diff  total_persons  total_places  \n",
       "0          business  0.016240 -0.023148  0.039388              0             0  \n",
       "1     entertainment  0.020668  0.041667  0.020999              0             0  \n",
       "2        sci_health  0.000946 -0.034722  0.035668              0             0  \n",
       "5             world -0.020845  0.052083  0.072928              0             0  \n",
       "6             world -0.001084 -0.007639  0.006555              0             2  "
      ]
     },
     "execution_count": 7,
     "metadata": {},
     "output_type": "execute_result"
    }
   ],
   "source": [
    "test_data"
   ]
  }
 ],
 "metadata": {
  "anaconda-cloud": {},
  "kernelspec": {
   "display_name": "Python [default]",
   "language": "python",
   "name": "python2"
  },
  "language_info": {
   "codemirror_mode": {
    "name": "ipython",
    "version": 2
   },
   "file_extension": ".py",
   "mimetype": "text/x-python",
   "name": "python",
   "nbconvert_exporter": "python",
   "pygments_lexer": "ipython2",
   "version": "2.7.12"
  }
 },
 "nbformat": 4,
 "nbformat_minor": 1
}
