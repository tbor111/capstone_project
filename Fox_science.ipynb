{
 "cells": [
  {
   "cell_type": "code",
   "execution_count": 2,
   "metadata": {
    "collapsed": true
   },
   "outputs": [],
   "source": [
    "import pandas as pd\n",
    "from sqlalchemy import create_engine\n",
    "from bs4 import BeautifulSoup\n",
    "import cookielib\n",
    "import urllib2\n",
    "import requests\n",
    "import re\n",
    "import json\n",
    "from sqlalchemy import create_engine\n",
    "import psycopg2\n",
    "from sqlalchemy.orm.session import sessionmaker"
   ]
  },
  {
   "cell_type": "code",
   "execution_count": 67,
   "metadata": {
    "collapsed": true
   },
   "outputs": [],
   "source": [
    "#url = 'http://foxnews.com/health.html'\n",
    "url = 'http://foxnews.com/tech.html'"
   ]
  },
  {
   "cell_type": "code",
   "execution_count": 68,
   "metadata": {
    "collapsed": true
   },
   "outputs": [],
   "source": [
    "response = requests.get(url)\n",
    "html = response.content\n",
    "soup = BeautifulSoup(html, 'html.parser')"
   ]
  },
  {
   "cell_type": "code",
   "execution_count": 69,
   "metadata": {
    "collapsed": true
   },
   "outputs": [],
   "source": [
    "results = soup.find_all('article')"
   ]
  },
  {
   "cell_type": "code",
   "execution_count": 62,
   "metadata": {
    "collapsed": false
   },
   "outputs": [
    {
     "data": {
      "text/plain": [
       "[u'/category/world/global-economy.html',\n",
       " u'/category/world/conflicts/iran.html',\n",
       " u'/category/world/world-regions/asia.html',\n",
       " u'/category/world/world-regions/middle-east.html',\n",
       " u'/category/lifestyle.html',\n",
       " u'/world/regions.html',\n",
       " u'/world/regions.html',\n",
       " u'/world/regions.html',\n",
       " u'/world/regions.html',\n",
       " u'/world/regions.html',\n",
       " u'/world/regions.html',\n",
       " u'/opinion/2017/02/04/congos-violent-kleptocracy-at-crossroads.html',\n",
       " u'/opinion/2017/02/03/give-trump-three-cheers-for-standing-up-to-anti-american-deal-with-australia.html',\n",
       " u'/opinion/2017/02/03/very-real-very-dangerous-threat-iranian-regime.html',\n",
       " u'/opinion/2017/02/02/senators-cornyn-rubio-young-its-time-for-action-against-iran.html']"
      ]
     },
     "execution_count": 62,
     "metadata": {},
     "output_type": "execute_result"
    }
   ],
   "source": [
    "links"
   ]
  },
  {
   "cell_type": "code",
   "execution_count": 70,
   "metadata": {
    "collapsed": false,
    "scrolled": false
   },
   "outputs": [],
   "source": [
    "links = []\n",
    "authors = []\n",
    "dates = []\n",
    "bodies = []\n",
    "titles = []\n",
    "sections = []\n",
    "\n",
    "for x in results:\n",
    "    link = x.find('a')['href']\n",
    "    match1 = re.search('^http://', link)\n",
    "    match2 = re.search('/slideshow', link)\n",
    "    if not match1 and not match2:\n",
    "        links.append(link)\n",
    "\n",
    "for link in links:\n",
    "    url = 'http://www.foxnews.com' + link\n",
    "    response = requests.get(url)\n",
    "    html = response.content\n",
    "    new_soup = BeautifulSoup(html, 'html.parser')\n",
    "    \n",
    "    # get title\n",
    "    title = new_soup.find('title').text.strip().replace('| Fox News','')\n",
    "    titles.append(title)\n",
    "    \n",
    "    # get body\n",
    "    all_p = ''\n",
    "    body = new_soup.find('div', attrs = {'class': 'article-text'})\n",
    "    paragraphs = body.find_all('p')\n",
    "    for p in paragraphs:\n",
    "        p = p.text.strip().encode('ascii','ignore')\n",
    "        all_p = all_p + p\n",
    "    bodies.append(all_p)\n",
    "    \n",
    "    # get date\n",
    "    date = new_soup.find('meta', attrs = {'name': 'dc.date'})['content']\n",
    "    dates.append(date)\n",
    "    \n",
    "    # get section\n",
    "    section = new_soup.find('meta', attrs = {'name': \"prism.section\"})['content']\n",
    "    sections.append(section)\n",
    "    \n",
    "    # get author\n",
    "    author_div = new_soup.find('div', attrs = {'class': 'article-info'})\n",
    "    try:\n",
    "        author = author_div.find('p').text.strip()\n",
    "    except AttributeError:\n",
    "        author = \"None found\"\n",
    "    authors.append(author)\n",
    "        "
   ]
  },
  {
   "cell_type": "code",
   "execution_count": 71,
   "metadata": {
    "collapsed": true
   },
   "outputs": [],
   "source": [
    "my_dict = {\n",
    "        'title': titles, 'link': links, 'author': authors, 'body': bodies,\n",
    "        'section': sections, 'date': dates\n",
    "    }"
   ]
  },
  {
   "cell_type": "code",
   "execution_count": 72,
   "metadata": {
    "collapsed": true
   },
   "outputs": [],
   "source": [
    "my_df = pd.DataFrame(my_dict)"
   ]
  },
  {
   "cell_type": "code",
   "execution_count": 73,
   "metadata": {
    "collapsed": false
   },
   "outputs": [
    {
     "data": {
      "text/html": [
       "<div>\n",
       "<table border=\"1\" class=\"dataframe\">\n",
       "  <thead>\n",
       "    <tr style=\"text-align: right;\">\n",
       "      <th></th>\n",
       "      <th>author</th>\n",
       "      <th>body</th>\n",
       "      <th>date</th>\n",
       "      <th>link</th>\n",
       "      <th>section</th>\n",
       "      <th>title</th>\n",
       "    </tr>\n",
       "  </thead>\n",
       "  <tbody>\n",
       "    <tr>\n",
       "      <th>0</th>\n",
       "      <td>None found</td>\n",
       "      <td>Some 300 drones lit up the sky in a spectacula...</td>\n",
       "      <td>2017-02-06</td>\n",
       "      <td>/tech/2017/02/06/how-drones-lit-up-sky-in-lady...</td>\n",
       "      <td>tech</td>\n",
       "      <td>How drones lit up the sky in Lady Gaga's Super...</td>\n",
       "    </tr>\n",
       "    <tr>\n",
       "      <th>1</th>\n",
       "      <td>By        \\t\\n\\t\\t            \\n\\t\\t          ...</td>\n",
       "      <td>It takes a lot of courage to make changes that...</td>\n",
       "      <td>2017-02-07</td>\n",
       "      <td>/tech/2017/02/07/apple-didnt-just-fix-its-dong...</td>\n",
       "      <td>tech</td>\n",
       "      <td>Apple didn't just fix its dongle hell problem ...</td>\n",
       "    </tr>\n",
       "    <tr>\n",
       "      <th>2</th>\n",
       "      <td>By        \\t\\n\\t\\t            \\n\\t\\t          ...</td>\n",
       "      <td>It's been a hectic start for President Donald ...</td>\n",
       "      <td>2017-02-07</td>\n",
       "      <td>/tech/2017/02/07/tesla-and-spacex-join-legal-f...</td>\n",
       "      <td>tech</td>\n",
       "      <td>Tesla and SpaceX join legal fight against Trum...</td>\n",
       "    </tr>\n",
       "    <tr>\n",
       "      <th>3</th>\n",
       "      <td>None found</td>\n",
       "      <td>If you havent gotten around to using a passwor...</td>\n",
       "      <td>2017-02-07</td>\n",
       "      <td>/tech/2017/02/07/everything-need-to-know-about...</td>\n",
       "      <td>tech</td>\n",
       "      <td>Everything You Need to Know About Password Man...</td>\n",
       "    </tr>\n",
       "    <tr>\n",
       "      <th>4</th>\n",
       "      <td>By        \\t\\n\\t\\t            \\n\\t\\t          ...</td>\n",
       "      <td>Riding on a wave of nostalgia, the NES Classic...</td>\n",
       "      <td>2017-02-06</td>\n",
       "      <td>/tech/2017/02/06/nintendo-has-already-sold-1-5...</td>\n",
       "      <td>tech</td>\n",
       "      <td>Nintendo has already sold 1.5 million NES Clas...</td>\n",
       "    </tr>\n",
       "  </tbody>\n",
       "</table>\n",
       "</div>"
      ],
      "text/plain": [
       "                                              author  \\\n",
       "0                                         None found   \n",
       "1  By        \\t\\n\\t\\t            \\n\\t\\t          ...   \n",
       "2  By        \\t\\n\\t\\t            \\n\\t\\t          ...   \n",
       "3                                         None found   \n",
       "4  By        \\t\\n\\t\\t            \\n\\t\\t          ...   \n",
       "\n",
       "                                                body        date  \\\n",
       "0  Some 300 drones lit up the sky in a spectacula...  2017-02-06   \n",
       "1  It takes a lot of courage to make changes that...  2017-02-07   \n",
       "2  It's been a hectic start for President Donald ...  2017-02-07   \n",
       "3  If you havent gotten around to using a passwor...  2017-02-07   \n",
       "4  Riding on a wave of nostalgia, the NES Classic...  2017-02-06   \n",
       "\n",
       "                                                link section  \\\n",
       "0  /tech/2017/02/06/how-drones-lit-up-sky-in-lady...    tech   \n",
       "1  /tech/2017/02/07/apple-didnt-just-fix-its-dong...    tech   \n",
       "2  /tech/2017/02/07/tesla-and-spacex-join-legal-f...    tech   \n",
       "3  /tech/2017/02/07/everything-need-to-know-about...    tech   \n",
       "4  /tech/2017/02/06/nintendo-has-already-sold-1-5...    tech   \n",
       "\n",
       "                                               title  \n",
       "0  How drones lit up the sky in Lady Gaga's Super...  \n",
       "1  Apple didn't just fix its dongle hell problem ...  \n",
       "2  Tesla and SpaceX join legal fight against Trum...  \n",
       "3  Everything You Need to Know About Password Man...  \n",
       "4  Nintendo has already sold 1.5 million NES Clas...  "
      ]
     },
     "execution_count": 73,
     "metadata": {},
     "output_type": "execute_result"
    }
   ],
   "source": [
    "my_df.head()"
   ]
  },
  {
   "cell_type": "code",
   "execution_count": 74,
   "metadata": {
    "collapsed": true
   },
   "outputs": [],
   "source": [
    "engine = create_engine('postgresql://teresaborcuch@localhost:5433/capstone')"
   ]
  },
  {
   "cell_type": "code",
   "execution_count": 75,
   "metadata": {
    "collapsed": true
   },
   "outputs": [],
   "source": [
    "# clear staging\n",
    "clear_staging_query = 'DELETE FROM fox_staging *;'"
   ]
  },
  {
   "cell_type": "code",
   "execution_count": 76,
   "metadata": {
    "collapsed": false
   },
   "outputs": [],
   "source": [
    "# create sqlalchemy session and clear staging\n",
    "Session = sessionmaker(bind=engine)\n",
    "session = Session()\n",
    "\n",
    "engine.execute(clear_staging_query)\n",
    "session.commit()"
   ]
  },
  {
   "cell_type": "code",
   "execution_count": 77,
   "metadata": {
    "collapsed": false
   },
   "outputs": [],
   "source": [
    "# add dataframe to staging\n",
    "my_df.to_sql('fox_staging', engine, if_exists = 'append', index = False)"
   ]
  },
  {
   "cell_type": "code",
   "execution_count": 78,
   "metadata": {
    "collapsed": true
   },
   "outputs": [],
   "source": [
    "move_unique_query = '''\n",
    "INSERT INTO fox_news (title, date, author, body, link, section)\n",
    "SELECT title, date, author, body, link, section\n",
    "FROM fox_staging\n",
    "WHERE NOT EXISTS (SELECT title, date, author, body, link, section\n",
    "FROM fox_news\n",
    "WHERE fox_news.title = fox_staging.title);\n",
    "'''"
   ]
  },
  {
   "cell_type": "code",
   "execution_count": 79,
   "metadata": {
    "collapsed": true
   },
   "outputs": [],
   "source": [
    "# run the move_unique_query\n",
    "engine.execute(move_unique_query)\n",
    "session.commit()\n",
    "session.close()"
   ]
  },
  {
   "cell_type": "code",
   "execution_count": null,
   "metadata": {
    "collapsed": true
   },
   "outputs": [],
   "source": []
  }
 ],
 "metadata": {
  "anaconda-cloud": {},
  "kernelspec": {
   "display_name": "Python [default]",
   "language": "python",
   "name": "python2"
  },
  "language_info": {
   "codemirror_mode": {
    "name": "ipython",
    "version": 2
   },
   "file_extension": ".py",
   "mimetype": "text/x-python",
   "name": "python",
   "nbconvert_exporter": "python",
   "pygments_lexer": "ipython2",
   "version": "2.7.12"
  }
 },
 "nbformat": 4,
 "nbformat_minor": 1
}
