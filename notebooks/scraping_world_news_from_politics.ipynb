{
 "cells": [
  {
   "cell_type": "code",
   "execution_count": 99,
   "metadata": {
    "collapsed": true
   },
   "outputs": [],
   "source": [
    "import pandas as pd\n",
    "import numpy as np\n",
    "import requests\n",
    "from bs4 import BeautifulSoup\n",
    "from urllib import urlopen\n",
    "import re"
   ]
  },
  {
   "cell_type": "code",
   "execution_count": 105,
   "metadata": {
    "collapsed": true
   },
   "outputs": [],
   "source": [
    "# initialize lists\n",
    "titles = []\n",
    "dates = []\n",
    "links = []\n",
    "fulltexts = []\n",
    "authors = []"
   ]
  },
  {
   "cell_type": "code",
   "execution_count": 106,
   "metadata": {
    "collapsed": false
   },
   "outputs": [],
   "source": [
    "for i in range(1,6):\n",
    "    url = \"http://worldnewsfrompolitics.com/page/{}/\".format(str(i))\n",
    "    soup = BeautifulSoup(urlopen(url).read(),'html.parser')\n",
    "    results = soup.find_all('div', attrs={'class':'masonry__item'})\n",
    "    \n",
    "    for x in results:\n",
    "    # get title\n",
    "        title = x.find('h3', attrs = {'class': 'hN'}).text.strip()\n",
    "        titles.append(title)\n",
    "    \n",
    "    # get post date\n",
    "        date = x.find('li', attrs = {'class': 'xpost_date'}).text.strip()\n",
    "        dates.append(date)\n",
    "    \n",
    "    # get link to story\n",
    "        link = x.find('div', attrs = {'class': 'article--grid__header'}).find('a')['href']\n",
    "        links.append(link)\n",
    "    \n",
    "    # resoup it\n",
    "        new_soup = BeautifulSoup(urlopen(link).read(),'html.parser')\n",
    "        #body = new_soup.find(''body').text.strip()'\n",
    "        body = new_soup.find_all('p')\n",
    "        fulltexts.append(body)\n",
    "\n",
    "    # get author\n",
    "        author = new_soup.find('div', attrs = {'class': 'article__author-name'}).text.strip()\n",
    "        authors.append(author)"
   ]
  },
  {
   "cell_type": "code",
   "execution_count": 111,
   "metadata": {
    "collapsed": false
   },
   "outputs": [],
   "source": [
    "wnfp_df = pd.DataFrame(columns = ['title', 'author','date','link','fulltext'])\n",
    "wnfp_df['title'] = titles\n",
    "wnfp_df['author'] = authors\n",
    "wnfp_df['date'] = dates\n",
    "wnfp_df['link'] = links\n",
    "wnfp_df['fulltext'] = fulltexts"
   ]
  },
  {
   "cell_type": "code",
   "execution_count": 112,
   "metadata": {
    "collapsed": false
   },
   "outputs": [
    {
     "data": {
      "text/html": [
       "<div>\n",
       "<table border=\"1\" class=\"dataframe\">\n",
       "  <thead>\n",
       "    <tr style=\"text-align: right;\">\n",
       "      <th></th>\n",
       "      <th>title</th>\n",
       "      <th>author</th>\n",
       "      <th>date</th>\n",
       "      <th>link</th>\n",
       "      <th>fulltext</th>\n",
       "    </tr>\n",
       "  </thead>\n",
       "  <tbody>\n",
       "    <tr>\n",
       "      <th>0</th>\n",
       "      <td>Poll: Clinton up 13 over Sanders in California</td>\n",
       "      <td>World News From Politics</td>\n",
       "      <td>31 May</td>\n",
       "      <td>http://worldnewsfrompolitics.com/2016/05/31/po...</td>\n",
       "      <td>[&lt;p&gt;Democratic presidential front-runner &lt;span...</td>\n",
       "    </tr>\n",
       "    <tr>\n",
       "      <th>1</th>\n",
       "      <td>Donald Trump says he’s given $5.6M to veterans...</td>\n",
       "      <td>World News From Politics</td>\n",
       "      <td>31 May</td>\n",
       "      <td>http://worldnewsfrompolitics.com/2016/05/31/do...</td>\n",
       "      <td>[&lt;p&gt;Donald Trump on Tuesday said he finally ga...</td>\n",
       "    </tr>\n",
       "    <tr>\n",
       "      <th>2</th>\n",
       "      <td>Do anti-Trump Republicans really want to risk ...</td>\n",
       "      <td>World News From Politics</td>\n",
       "      <td>31 May</td>\n",
       "      <td>http://worldnewsfrompolitics.com/2016/05/31/do...</td>\n",
       "      <td>[&lt;p&gt;There have been a plethora of articles wri...</td>\n",
       "    </tr>\n",
       "    <tr>\n",
       "      <th>3</th>\n",
       "      <td>Bernie Sanders supporters have a point</td>\n",
       "      <td>World News From Politics</td>\n",
       "      <td>31 May</td>\n",
       "      <td>http://worldnewsfrompolitics.com/2016/05/31/be...</td>\n",
       "      <td>[&lt;p&gt;Why is it such a mystery to mainstream Dem...</td>\n",
       "    </tr>\n",
       "    <tr>\n",
       "      <th>4</th>\n",
       "      <td>Donald Trump at war with press over donations ...</td>\n",
       "      <td>World News From Politics</td>\n",
       "      <td>31 May</td>\n",
       "      <td>http://worldnewsfrompolitics.com/2016/05/31/do...</td>\n",
       "      <td>[&lt;p&gt;Donald Trump lashed out at the press over ...</td>\n",
       "    </tr>\n",
       "  </tbody>\n",
       "</table>\n",
       "</div>"
      ],
      "text/plain": [
       "                                               title  \\\n",
       "0     Poll: Clinton up 13 over Sanders in California   \n",
       "1  Donald Trump says he’s given $5.6M to veterans...   \n",
       "2  Do anti-Trump Republicans really want to risk ...   \n",
       "3             Bernie Sanders supporters have a point   \n",
       "4  Donald Trump at war with press over donations ...   \n",
       "\n",
       "                     author    date  \\\n",
       "0  World News From Politics  31 May   \n",
       "1  World News From Politics  31 May   \n",
       "2  World News From Politics  31 May   \n",
       "3  World News From Politics  31 May   \n",
       "4  World News From Politics  31 May   \n",
       "\n",
       "                                                link  \\\n",
       "0  http://worldnewsfrompolitics.com/2016/05/31/po...   \n",
       "1  http://worldnewsfrompolitics.com/2016/05/31/do...   \n",
       "2  http://worldnewsfrompolitics.com/2016/05/31/do...   \n",
       "3  http://worldnewsfrompolitics.com/2016/05/31/be...   \n",
       "4  http://worldnewsfrompolitics.com/2016/05/31/do...   \n",
       "\n",
       "                                            fulltext  \n",
       "0  [<p>Democratic presidential front-runner <span...  \n",
       "1  [<p>Donald Trump on Tuesday said he finally ga...  \n",
       "2  [<p>There have been a plethora of articles wri...  \n",
       "3  [<p>Why is it such a mystery to mainstream Dem...  \n",
       "4  [<p>Donald Trump lashed out at the press over ...  "
      ]
     },
     "execution_count": 112,
     "metadata": {},
     "output_type": "execute_result"
    }
   ],
   "source": [
    "wnfp_df.head()"
   ]
  },
  {
   "cell_type": "code",
   "execution_count": 113,
   "metadata": {
    "collapsed": false
   },
   "outputs": [],
   "source": [
    "# make date_scraped column and class column\n",
    "\n",
    "wnfp_df['date_scraped'] = '2017-01-17'"
   ]
  },
  {
   "cell_type": "code",
   "execution_count": 114,
   "metadata": {
    "collapsed": true
   },
   "outputs": [],
   "source": [
    "# will classify 0 = fake, 1 = real, 2 = satire\n",
    "wnfp_df['target'] = 0"
   ]
  },
  {
   "cell_type": "code",
   "execution_count": 115,
   "metadata": {
    "collapsed": false
   },
   "outputs": [
    {
     "data": {
      "text/html": [
       "<div>\n",
       "<table border=\"1\" class=\"dataframe\">\n",
       "  <thead>\n",
       "    <tr style=\"text-align: right;\">\n",
       "      <th></th>\n",
       "      <th>title</th>\n",
       "      <th>author</th>\n",
       "      <th>date</th>\n",
       "      <th>link</th>\n",
       "      <th>fulltext</th>\n",
       "      <th>date_scraped</th>\n",
       "      <th>target</th>\n",
       "    </tr>\n",
       "  </thead>\n",
       "  <tbody>\n",
       "    <tr>\n",
       "      <th>0</th>\n",
       "      <td>Poll: Clinton up 13 over Sanders in California</td>\n",
       "      <td>World News From Politics</td>\n",
       "      <td>31 May</td>\n",
       "      <td>http://worldnewsfrompolitics.com/2016/05/31/po...</td>\n",
       "      <td>[&lt;p&gt;Democratic presidential front-runner &lt;span...</td>\n",
       "      <td>2017-01-17</td>\n",
       "      <td>0</td>\n",
       "    </tr>\n",
       "    <tr>\n",
       "      <th>1</th>\n",
       "      <td>Donald Trump says he’s given $5.6M to veterans...</td>\n",
       "      <td>World News From Politics</td>\n",
       "      <td>31 May</td>\n",
       "      <td>http://worldnewsfrompolitics.com/2016/05/31/do...</td>\n",
       "      <td>[&lt;p&gt;Donald Trump on Tuesday said he finally ga...</td>\n",
       "      <td>2017-01-17</td>\n",
       "      <td>0</td>\n",
       "    </tr>\n",
       "    <tr>\n",
       "      <th>2</th>\n",
       "      <td>Do anti-Trump Republicans really want to risk ...</td>\n",
       "      <td>World News From Politics</td>\n",
       "      <td>31 May</td>\n",
       "      <td>http://worldnewsfrompolitics.com/2016/05/31/do...</td>\n",
       "      <td>[&lt;p&gt;There have been a plethora of articles wri...</td>\n",
       "      <td>2017-01-17</td>\n",
       "      <td>0</td>\n",
       "    </tr>\n",
       "    <tr>\n",
       "      <th>3</th>\n",
       "      <td>Bernie Sanders supporters have a point</td>\n",
       "      <td>World News From Politics</td>\n",
       "      <td>31 May</td>\n",
       "      <td>http://worldnewsfrompolitics.com/2016/05/31/be...</td>\n",
       "      <td>[&lt;p&gt;Why is it such a mystery to mainstream Dem...</td>\n",
       "      <td>2017-01-17</td>\n",
       "      <td>0</td>\n",
       "    </tr>\n",
       "    <tr>\n",
       "      <th>4</th>\n",
       "      <td>Donald Trump at war with press over donations ...</td>\n",
       "      <td>World News From Politics</td>\n",
       "      <td>31 May</td>\n",
       "      <td>http://worldnewsfrompolitics.com/2016/05/31/do...</td>\n",
       "      <td>[&lt;p&gt;Donald Trump lashed out at the press over ...</td>\n",
       "      <td>2017-01-17</td>\n",
       "      <td>0</td>\n",
       "    </tr>\n",
       "  </tbody>\n",
       "</table>\n",
       "</div>"
      ],
      "text/plain": [
       "                                               title  \\\n",
       "0     Poll: Clinton up 13 over Sanders in California   \n",
       "1  Donald Trump says he’s given $5.6M to veterans...   \n",
       "2  Do anti-Trump Republicans really want to risk ...   \n",
       "3             Bernie Sanders supporters have a point   \n",
       "4  Donald Trump at war with press over donations ...   \n",
       "\n",
       "                     author    date  \\\n",
       "0  World News From Politics  31 May   \n",
       "1  World News From Politics  31 May   \n",
       "2  World News From Politics  31 May   \n",
       "3  World News From Politics  31 May   \n",
       "4  World News From Politics  31 May   \n",
       "\n",
       "                                                link  \\\n",
       "0  http://worldnewsfrompolitics.com/2016/05/31/po...   \n",
       "1  http://worldnewsfrompolitics.com/2016/05/31/do...   \n",
       "2  http://worldnewsfrompolitics.com/2016/05/31/do...   \n",
       "3  http://worldnewsfrompolitics.com/2016/05/31/be...   \n",
       "4  http://worldnewsfrompolitics.com/2016/05/31/do...   \n",
       "\n",
       "                                            fulltext date_scraped  target  \n",
       "0  [<p>Democratic presidential front-runner <span...   2017-01-17       0  \n",
       "1  [<p>Donald Trump on Tuesday said he finally ga...   2017-01-17       0  \n",
       "2  [<p>There have been a plethora of articles wri...   2017-01-17       0  \n",
       "3  [<p>Why is it such a mystery to mainstream Dem...   2017-01-17       0  \n",
       "4  [<p>Donald Trump lashed out at the press over ...   2017-01-17       0  "
      ]
     },
     "execution_count": 115,
     "metadata": {},
     "output_type": "execute_result"
    }
   ],
   "source": [
    "wnfp_df.head()"
   ]
  },
  {
   "cell_type": "code",
   "execution_count": 116,
   "metadata": {
    "collapsed": false
   },
   "outputs": [],
   "source": [
    "wnfp_df.to_csv('./wnfp_df.csv', encoding = 'utf8')"
   ]
  },
  {
   "cell_type": "code",
   "execution_count": null,
   "metadata": {
    "collapsed": true
   },
   "outputs": [],
   "source": []
  }
 ],
 "metadata": {
  "anaconda-cloud": {},
  "kernelspec": {
   "display_name": "Python [default]",
   "language": "python",
   "name": "python2"
  },
  "language_info": {
   "codemirror_mode": {
    "name": "ipython",
    "version": 2
   },
   "file_extension": ".py",
   "mimetype": "text/x-python",
   "name": "python",
   "nbconvert_exporter": "python",
   "pygments_lexer": "ipython2",
   "version": "2.7.12"
  }
 },
 "nbformat": 4,
 "nbformat_minor": 1
}
